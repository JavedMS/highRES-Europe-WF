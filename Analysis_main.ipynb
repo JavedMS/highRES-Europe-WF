{
 "cells": [
  {
   "cell_type": "code",
   "execution_count": 3,
   "metadata": {},
   "outputs": [],
   "source": [
    "import glob\n",
    "import itertools\n",
    "import sqlite3\n",
    "import matplotlib.pyplot as plt\n",
    "import pandas as pd\n",
    "from tqdm.auto import tqdm\n",
    "import pathlib"
   ]
  },
  {
   "cell_type": "code",
   "execution_count": 26,
   "metadata": {},
   "outputs": [],
   "source": [
    "import warnings\n",
    "warnings.simplefilter(action='ignore', category=FutureWarning)"
   ]
  },
  {
   "cell_type": "code",
   "execution_count": 4,
   "metadata": {},
   "outputs": [],
   "source": [
    "colordict = {\n",
    "    \"GasCCS\": \"#b20101\",\n",
    "    \"Gas\": \"#d35050\",\n",
    "    \"HydroRes\": \"#08ad97\",\n",
    "    \"HydroRoR\": \"#4adbc8\",\n",
    "    \"OnWind\": \"#235ebc\",\n",
    "    \"Solar\": \"#f9d002\",\n",
    "    \"Import\": \"#8a1caf\",\n",
    "    \"Windoffshore\": \"#6895dd\",\n",
    "    \"Lion\": \"#baf238\",\n",
    "    \"PumpedHydro\": \"#51dbcc\",\n",
    "}"
   ]
  },
  {
   "cell_type": "code",
   "execution_count": 5,
   "metadata": {},
   "outputs": [
    {
     "data": {
      "text/plain": [
       "{'GasCCS': '#b20101',\n",
       " 'Gas': '#d35050',\n",
       " 'HydroRes': '#08ad97',\n",
       " 'HydroRoR': '#4adbc8',\n",
       " 'OnWind': '#235ebc',\n",
       " 'Solar': '#f9d002',\n",
       " 'Import': '#8a1caf',\n",
       " 'Windoffshore': '#6895dd',\n",
       " 'Lion': '#baf238',\n",
       " 'PumpedHydro': '#51dbcc'}"
      ]
     },
     "execution_count": 5,
     "metadata": {},
     "output_type": "execute_result"
    }
   ],
   "source": [
    "colordict"
   ]
  },
  {
   "cell_type": "code",
   "execution_count": 6,
   "metadata": {},
   "outputs": [],
   "source": [
    "compressionfileending = \".zstd\"\n",
    "compressiondict = {\"method\": \"zstd\", \"level\": 19, \"threads\": -1}"
   ]
  },
  {
   "cell_type": "code",
   "execution_count": 18,
   "metadata": {},
   "outputs": [
    {
     "data": {
      "text/plain": [
       "WindowsPath('C:/Users/javedm/highRES-Europe-WF/work')"
      ]
     },
     "execution_count": 18,
     "metadata": {},
     "output_type": "execute_result"
    }
   ],
   "source": [
    "resultspath = pathlib.Path(\n",
    "    #\"/c/Users/javedm/highRES-Europe-WF/work\"\n",
    "    \"C:\\\\Users\\\\javedm\\\\highRES-Europe-WF\\\\work\"\n",
    ")\n",
    "resultspath"
   ]
  },
  {
   "cell_type": "code",
   "execution_count": 10,
   "metadata": {},
   "outputs": [],
   "source": [
    "def modelstatus(modelpath):\n",
    "    logfile = modelpath/\"highres.log\"\n",
    "    gamsfile = modelpath/\"results.gdx\"\n",
    "    database = modelpath/\"results.db\"\n",
    "\n",
    "    if logfile.is_file() and gamsfile.is_file() and database.is_file():\n",
    "        with open (logfile) as logfile:\n",
    "            if \"Optimal solution found\" in logfile.read():\n",
    "                return \"optimal\"\n",
    "            else:\n",
    "                return \"exists\"\n",
    "    else:\n",
    "        return \"missing\"\n"
   ]
  },
  {
   "cell_type": "code",
   "execution_count": 35,
   "metadata": {},
   "outputs": [],
   "source": [
    "requested_scenarios = pd.read_csv(\n",
    "    resultspath/\"scenarios.csv\", sep=\"\\t\", keep_default_na=False, index_col=0\n",
    ").assign(\n",
    "    path=lambda df: (\n",
    "        resultspath\n",
    "        / \"models\"\n",
    "        / df.years.astype(str)\n",
    "        / (\n",
    "            df.spatials.astype(str)\n",
    "#           + \"_\"\n",
    "#            + df.years.astype(str)\n",
    "        )\n",
    "    ),\n",
    "    status=lambda df:df.path.apply(modelstatus),\n",
    ")"
   ]
  },
  {
   "cell_type": "code",
   "execution_count": 27,
   "metadata": {},
   "outputs": [
    {
     "data": {
      "text/plain": [
       "0    C:\\Users\\javedm\\highRES-Europe-WF\\work\\models\\2010\\region\n",
       "Name: path, dtype: object"
      ]
     },
     "execution_count": 27,
     "metadata": {},
     "output_type": "execute_result"
    }
   ],
   "source": [
    "pd.set_option('display.max_colwidth', None)\n",
    "requested_scenarios[\"path\"]\n"
   ]
  },
  {
   "cell_type": "code",
   "execution_count": 36,
   "metadata": {},
   "outputs": [
    {
     "data": {
      "text/html": [
       "<div>\n",
       "<style scoped>\n",
       "    .dataframe tbody tr th:only-of-type {\n",
       "        vertical-align: middle;\n",
       "    }\n",
       "\n",
       "    .dataframe tbody tr th {\n",
       "        vertical-align: top;\n",
       "    }\n",
       "\n",
       "    .dataframe thead th {\n",
       "        text-align: right;\n",
       "    }\n",
       "</style>\n",
       "<table border=\"1\" class=\"dataframe\">\n",
       "  <thead>\n",
       "    <tr style=\"text-align: right;\">\n",
       "      <th></th>\n",
       "      <th>years</th>\n",
       "      <th>spatials</th>\n",
       "      <th>path</th>\n",
       "      <th>status</th>\n",
       "    </tr>\n",
       "  </thead>\n",
       "  <tbody>\n",
       "    <tr>\n",
       "      <th>0</th>\n",
       "      <td>2010</td>\n",
       "      <td>region</td>\n",
       "      <td>C:\\Users\\javedm\\highRES-Europe-WF\\work\\models\\2010\\region</td>\n",
       "      <td>optimal</td>\n",
       "    </tr>\n",
       "  </tbody>\n",
       "</table>\n",
       "</div>"
      ],
      "text/plain": [
       "   years spatials                                                       path  \\\n",
       "0   2010   region  C:\\Users\\javedm\\highRES-Europe-WF\\work\\models\\2010\\region   \n",
       "\n",
       "    status  \n",
       "0  optimal  "
      ]
     },
     "execution_count": 36,
     "metadata": {},
     "output_type": "execute_result"
    }
   ],
   "source": [
    "requested_scenarios"
   ]
  },
  {
   "cell_type": "code",
   "execution_count": 29,
   "metadata": {},
   "outputs": [
    {
     "data": {
      "text/html": [
       "<div>\n",
       "<style scoped>\n",
       "    .dataframe tbody tr th:only-of-type {\n",
       "        vertical-align: middle;\n",
       "    }\n",
       "\n",
       "    .dataframe tbody tr th {\n",
       "        vertical-align: top;\n",
       "    }\n",
       "\n",
       "    .dataframe thead th {\n",
       "        text-align: right;\n",
       "    }\n",
       "</style>\n",
       "<table border=\"1\" class=\"dataframe\">\n",
       "  <thead>\n",
       "    <tr style=\"text-align: right;\">\n",
       "      <th></th>\n",
       "      <th>years</th>\n",
       "      <th>spatials</th>\n",
       "      <th>path</th>\n",
       "      <th>status</th>\n",
       "    </tr>\n",
       "  </thead>\n",
       "  <tbody>\n",
       "  </tbody>\n",
       "</table>\n",
       "</div>"
      ],
      "text/plain": [
       "Empty DataFrame\n",
       "Columns: [years, spatials, path, status]\n",
       "Index: []"
      ]
     },
     "execution_count": 29,
     "metadata": {},
     "output_type": "execute_result"
    }
   ],
   "source": [
    "requested_scenarios.query(\"status != 'optimal'\")"
   ]
  },
  {
   "cell_type": "code",
   "execution_count": 30,
   "metadata": {},
   "outputs": [],
   "source": [
    "found_scenarios = list((resultspath/\"models\").rglob(\"results.db\"))"
   ]
  },
  {
   "cell_type": "code",
   "execution_count": 31,
   "metadata": {},
   "outputs": [
    {
     "data": {
      "text/plain": [
       "[WindowsPath('C:/Users/javedm/highRES-Europe-WF/work/models/2010/region/results.db')]"
      ]
     },
     "execution_count": 31,
     "metadata": {},
     "output_type": "execute_result"
    }
   ],
   "source": [
    "found_scenarios"
   ]
  },
  {
   "cell_type": "code",
   "execution_count": 69,
   "metadata": {},
   "outputs": [],
   "source": [
    "def makenice(scenariolist, parameter):\n",
    "    returnlist = []\n",
    "    \n",
    "    basicindexlist = [\"year\", \"Spatial\"]\n",
    "\n",
    "    if parameter == \"cost\":\n",
    "        table = \"scalarvariables\"\n",
    "        index = [\"name\"]\n",
    "        newindex = [\"variable\"]\n",
    "        extraindex = newindex + [\"level_1\"]\n",
    "        value = \"costs\"\n",
    "        types = {}\n",
    "        tabletype = \"multiple\"\n",
    "\n",
    "    if parameter == \"cap\":\n",
    "        table = \"var_tot_pcap\"      # variable name in GAMS model\n",
    "        index = [\"g\"]\n",
    "        newindex = [\"technology\"]\n",
    "        extraindex = newindex + [\"level_1\"]\n",
    "        value = \"gencaptot\"        # Variable value after optimization\n",
    "        types = {}\n",
    "        tabletype = \"multiple\"\n",
    "\n",
    "    if parameter == \"newcap\":\n",
    "        table = \"var_new_pcap\"\n",
    "        index = [\"g\"]\n",
    "        newindex = [\"technology\"]\n",
    "        extraindex = newindex + [\"level_1\"]\n",
    "        value = \"gencapnew\"\n",
    "        types = {}\n",
    "        tabletype = \"multiple\"\n",
    "\n",
    "    if parameter == \"gen\":\n",
    "        table = \"var_gen\"\n",
    "        index = [\"h\", \"z\", \"g\"]\n",
    "        newindex = [\"hour\", \"zone\", \"technology\"]\n",
    "        extraindex = newindex + [\"level_3\"]\n",
    "        value = \"genamttot\"\n",
    "        types = {\"hour\": int}\n",
    "        tabletype = \"multiple\"\n",
    "\n",
    "    if parameter == \"gentot\":\n",
    "        table = \"o_gen_tot\"\n",
    "        index = [\"g\"]\n",
    "        newindex = [\"technology\"]\n",
    "        extraindex = newindex       #newindex+[\"level_1\"]\n",
    "        value = \"genamttot\"\n",
    "        types = {}\n",
    "        tabletype = \"single\"\n",
    "\n",
    "    if parameter == \"pgen\":\n",
    "        table = \"var_pgen\"\n",
    "        index = [\"h\", \"z\"]\n",
    "        newindex = [\"hour\", \"zone\"]\n",
    "        extraindex = newindex + [\"level_2\"]\n",
    "        value = \"pgen\"\n",
    "        types = {\"hour\": int}\n",
    "        tabletype = \"multiple\"\n",
    "\n",
    "    if parameter == \"pgenz\":\n",
    "        table = \"o_pgen_tot_z\"\n",
    "        index = [\"z\"]\n",
    "        newindex = [\"zone\"]\n",
    "        extraindex = newindex       #newindex+[\"level_1\"]\n",
    "        value = \"pgen\"\n",
    "        types = {}\n",
    "        tabletype = \"single\"\n",
    "\n",
    "    if parameter == \"demand\":\n",
    "        table = \"demand\"\n",
    "        index = [\"z\", \"h\"]\n",
    "        newindex = [\"zone\", \"hour\"]\n",
    "        extraindex = newindex\n",
    "        value = \"demand\"\n",
    "        types = {\"hour\": int}\n",
    "        tabletype = \"single\"\n",
    "\n",
    "    if parameter == \"area\":\n",
    "        table = \"area\"\n",
    "        index = [\"vre\", \"z\", \"r\"]\n",
    "        newindex = [\"technology\", \"zone\", \"region\"]\n",
    "        extraindex = newindex\n",
    "        value = \"area\"\n",
    "        types = {}\n",
    "        tabletype = \"single\"\n",
    "\n",
    "    if parameter == \"storage_pcap\":\n",
    "        table = \"var_tot_store_pcap\"\n",
    "        index = [\"s\"]\n",
    "        newindex = [\"technology\"]\n",
    "        extraindex = newindex + [\"level_1\"]\n",
    "        value = \"storepcaptot\"\n",
    "        types = {}\n",
    "        tabletype = \"multiple\"\n",
    "\n",
    "    if parameter == \"storage_ecap\":\n",
    "        table = \"var_tot_store_ecap\"\n",
    "        index = [\"s\"]\n",
    "        newindex = [\"technology\"]\n",
    "        extraindex = newindex + [\"level_1\"]\n",
    "        value = \"storeecaptot\"\n",
    "        types = {}\n",
    "        tabletype = \"multiple\"\n",
    "\n",
    "    if parameter == \"storage_gen_tot\":\n",
    "        table = \"o_store_gen_all\"\n",
    "        index = [\"s\"]\n",
    "        newindex = [\"technology\"]\n",
    "        extraindex = newindex\n",
    "        value = \"storegentot\"\n",
    "        types = {}\n",
    "        tabletype = \"single\"\n",
    "\n",
    "    if parameter == \"vre_gen\":\n",
    "        table = \"vre_gen\"\n",
    "        index = [\"h\", \"vre\", \"r\"]\n",
    "        newindex = [\"hour\", \"technology\", \"region\"]\n",
    "        extraindex = newindex\n",
    "        value = \"capfac\"\n",
    "        types = {}\n",
    "        tabletype = \"single\"\n",
    "\n",
    "    if parameter == \"costsgencapex\":\n",
    "        table = \"costs_gen_capex\"\n",
    "        index = [\"z\"]\n",
    "        newindex = [\"zone\"]\n",
    "        extraindex = newindex + [\"level_1\"]\n",
    "        value = \"costsgencapex\"\n",
    "        types = {}\n",
    "        tabletype = \"multiple\"\n",
    "\n",
    "    if parameter == \"costsgenvarom\":\n",
    "        table = \"costs_gen_varom\"\n",
    "        index = [\"z\"]\n",
    "        newindex = [\"zone\"]\n",
    "        extraindex = newindex + [\"level_1\"]\n",
    "        value = \"costsgenvarom\"\n",
    "        types = {}\n",
    "        tabletype = \"multiple\"\n",
    "\n",
    "    indexlist = basicindexlist  + extraindex\n",
    "    indexdict = dict(zip(index, newindex))\n",
    "    indexdict.update({0: value})\n",
    "    for scenario in tqdm(scenariolist):\n",
    "        scenarioname = str(scenario)[64+8: -6]     #need to set these numbers according to the path\n",
    "        scenarioname = '2010_' + scenarioname + '_region'   # checkagain\n",
    "        scenarionamesplit = scenarioname[0:].split(\"_\") # set accordingly, output ['rio', 'results']\n",
    "\n",
    "        con = sqlite3.connect(scenario)\n",
    "        appendme = pd.read_sql_query(f\"SELECT * from {table}\", con)\n",
    "        \n",
    "        # It only executes on following two lines\n",
    "        if tabletype == \"multiple\":\n",
    "            appendme = appendme.set_index(index).stack().reset_index()\n",
    "        appendme = (\n",
    "            appendme.rename(columns=indexdict)\n",
    "            .assign(\n",
    "                year=scenarioname[:4],\n",
    "                Spatial=scenarionamesplit[2],   #changed\n",
    "            )\n",
    "            .astype(types)\n",
    "            .set_index(indexlist)\n",
    "            .sort_index()\n",
    "        )\n",
    "        returnlist.append(appendme)\n",
    "        con.close()\n",
    "    return pd.concat(returnlist)\n",
    "    \n",
    "\n",
    "    "
   ]
  },
  {
   "cell_type": "code",
   "execution_count": 79,
   "metadata": {},
   "outputs": [],
   "source": [
    "def barplot(inputdf):\n",
    "    return(\n",
    "        inputdf.groupby(\n",
    "            [\"year\", \"Spatial\"]\n",
    "        )\n",
    "        .sum()\n",
    "        .reset_index()\n",
    "        .assign(\n",
    "            name=lambda df: df.year.astype(str)\n",
    "            + \"_\"\n",
    "            + df.Spatial\n",
    "        )\n",
    "        .set_index(\"name\")\n",
    "        .sort_index()\n",
    "        .loc[:,\"value\"]\n",
    "        .plot.barh(figsize=(8,5), logx=True)\n",
    "    )"
   ]
  },
  {
   "cell_type": "code",
   "execution_count": 73,
   "metadata": {},
   "outputs": [
    {
     "data": {
      "text/plain": [
       "0    C:\\Users\\javedm\\highRES-Europe-WF\\work\\models\\2010\\region\\results.db\n",
       "Name: path, dtype: object"
      ]
     },
     "execution_count": 73,
     "metadata": {},
     "output_type": "execute_result"
    }
   ],
   "source": [
    "sqlite_list = requested_scenarios.query(\"status == 'optimal'\").path / \"results.db\"\n",
    "sqlite_list"
   ]
  },
  {
   "cell_type": "code",
   "execution_count": 74,
   "metadata": {},
   "outputs": [
    {
     "name": "stderr",
     "output_type": "stream",
     "text": [
      "100%|██████████| 1/1 [00:00<00:00,  1.17it/s]\n"
     ]
    }
   ],
   "source": [
    "dem = makenice(sqlite_list, \"demand\")"
   ]
  },
  {
   "cell_type": "code",
   "execution_count": 75,
   "metadata": {},
   "outputs": [
    {
     "data": {
      "text/html": [
       "<div>\n",
       "<style scoped>\n",
       "    .dataframe tbody tr th:only-of-type {\n",
       "        vertical-align: middle;\n",
       "    }\n",
       "\n",
       "    .dataframe tbody tr th {\n",
       "        vertical-align: top;\n",
       "    }\n",
       "\n",
       "    .dataframe thead th {\n",
       "        text-align: right;\n",
       "    }\n",
       "</style>\n",
       "<table border=\"1\" class=\"dataframe\">\n",
       "  <thead>\n",
       "    <tr style=\"text-align: right;\">\n",
       "      <th></th>\n",
       "      <th></th>\n",
       "      <th></th>\n",
       "      <th></th>\n",
       "      <th>value</th>\n",
       "    </tr>\n",
       "    <tr>\n",
       "      <th>year</th>\n",
       "      <th>Spatial</th>\n",
       "      <th>zone</th>\n",
       "      <th>hour</th>\n",
       "      <th></th>\n",
       "    </tr>\n",
       "  </thead>\n",
       "  <tbody>\n",
       "    <tr>\n",
       "      <th rowspan=\"11\" valign=\"top\">2010</th>\n",
       "      <th rowspan=\"11\" valign=\"top\">region</th>\n",
       "      <th rowspan=\"5\" valign=\"top\">AT</th>\n",
       "      <th>0</th>\n",
       "      <td>10.6494</td>\n",
       "    </tr>\n",
       "    <tr>\n",
       "      <th>1</th>\n",
       "      <td>10.4538</td>\n",
       "    </tr>\n",
       "    <tr>\n",
       "      <th>2</th>\n",
       "      <td>10.2650</td>\n",
       "    </tr>\n",
       "    <tr>\n",
       "      <th>3</th>\n",
       "      <td>10.7076</td>\n",
       "    </tr>\n",
       "    <tr>\n",
       "      <th>4</th>\n",
       "      <td>11.8622</td>\n",
       "    </tr>\n",
       "    <tr>\n",
       "      <th>...</th>\n",
       "      <th>...</th>\n",
       "      <td>...</td>\n",
       "    </tr>\n",
       "    <tr>\n",
       "      <th rowspan=\"5\" valign=\"top\">UK</th>\n",
       "      <th>8755</th>\n",
       "      <td>89.2896</td>\n",
       "    </tr>\n",
       "    <tr>\n",
       "      <th>8756</th>\n",
       "      <td>83.7368</td>\n",
       "    </tr>\n",
       "    <tr>\n",
       "      <th>8757</th>\n",
       "      <td>76.6974</td>\n",
       "    </tr>\n",
       "    <tr>\n",
       "      <th>8758</th>\n",
       "      <td>69.5452</td>\n",
       "    </tr>\n",
       "    <tr>\n",
       "      <th>8759</th>\n",
       "      <td>62.3398</td>\n",
       "    </tr>\n",
       "  </tbody>\n",
       "</table>\n",
       "<p>245280 rows × 1 columns</p>\n",
       "</div>"
      ],
      "text/plain": [
       "                          value\n",
       "year Spatial zone hour         \n",
       "2010 region  AT   0     10.6494\n",
       "                  1     10.4538\n",
       "                  2     10.2650\n",
       "                  3     10.7076\n",
       "                  4     11.8622\n",
       "...                         ...\n",
       "             UK   8755  89.2896\n",
       "                  8756  83.7368\n",
       "                  8757  76.6974\n",
       "                  8758  69.5452\n",
       "                  8759  62.3398\n",
       "\n",
       "[245280 rows x 1 columns]"
      ]
     },
     "execution_count": 75,
     "metadata": {},
     "output_type": "execute_result"
    }
   ],
   "source": [
    "dem"
   ]
  },
  {
   "cell_type": "code",
   "execution_count": 80,
   "metadata": {},
   "outputs": [
    {
     "data": {
      "text/plain": [
       "<Axes: ylabel='name'>"
      ]
     },
     "execution_count": 80,
     "metadata": {},
     "output_type": "execute_result"
    },
    {
     "data": {
      "image/png": "[encoded data removed]",
      "text/plain": [
       "<Figure size 800x500 with 1 Axes>"
      ]
     },
     "metadata": {},
     "output_type": "display_data"
    }
   ],
   "source": [
    "barplot(dem)"
   ]
  },
  {
   "cell_type": "code",
   "execution_count": 82,
   "metadata": {},
   "outputs": [
    {
     "data": {
      "text/html": [
       "<div>\n",
       "<style scoped>\n",
       "    .dataframe tbody tr th:only-of-type {\n",
       "        vertical-align: middle;\n",
       "    }\n",
       "\n",
       "    .dataframe tbody tr th {\n",
       "        vertical-align: top;\n",
       "    }\n",
       "\n",
       "    .dataframe thead th {\n",
       "        text-align: right;\n",
       "    }\n",
       "</style>\n",
       "<table border=\"1\" class=\"dataframe\">\n",
       "  <thead>\n",
       "    <tr style=\"text-align: right;\">\n",
       "      <th></th>\n",
       "    </tr>\n",
       "  </thead>\n",
       "  <tbody>\n",
       "  </tbody>\n",
       "</table>\n",
       "</div>"
      ],
      "text/plain": [
       "Empty DataFrame\n",
       "Columns: []\n",
       "Index: []"
      ]
     },
     "execution_count": 82,
     "metadata": {},
     "output_type": "execute_result"
    }
   ],
   "source": [
    "dem = pd.DataFrame()\n",
    "dem"
   ]
  },
  {
   "cell_type": "code",
   "execution_count": null,
   "metadata": {},
   "outputs": [],
   "source": [
    "# scenarios_short are not defined\n",
    "for scenario in scenarios_short:\n",
    "    print(\"data/\" + scenario + \".db\")\n",
    "    con = sqlite3.connect(\"data/\" + str(scenario) + \".db\")\n",
    "    temp = (\n",
    "        pd.read_sql_query(\"SELECT * from demand\", con)\n",
    "        .rename(columns={\"z\": \"zone\", \"h\": \"hour\", \"value\": \"demand_GWh\"})\n",
    "        .groupby(\"zone\")\n",
    "        .sum()\n",
    "    )\n",
    "    temp[\"scenario\"] = scenario\n",
    "    frames = [dem, temp]\n",
    "    dem = pd.concat(frames)\n"
   ]
  },
  {
   "cell_type": "code",
   "execution_count": null,
   "metadata": {},
   "outputs": [],
   "source": [
    "dem = dem.reset_index().set_index([\"scenario\", \"zone\"])"
   ]
  },
  {
   "cell_type": "code",
   "execution_count": 87,
   "metadata": {},
   "outputs": [
    {
     "name": "stderr",
     "output_type": "stream",
     "text": [
      "100%|██████████| 1/1 [00:00<00:00, 62.43it/s]\n"
     ]
    },
    {
     "data": {
      "text/html": [
       "<div>\n",
       "<style scoped>\n",
       "    .dataframe tbody tr th:only-of-type {\n",
       "        vertical-align: middle;\n",
       "    }\n",
       "\n",
       "    .dataframe tbody tr th {\n",
       "        vertical-align: top;\n",
       "    }\n",
       "\n",
       "    .dataframe thead th {\n",
       "        text-align: right;\n",
       "    }\n",
       "</style>\n",
       "<table border=\"1\" class=\"dataframe\">\n",
       "  <thead>\n",
       "    <tr style=\"text-align: right;\">\n",
       "      <th></th>\n",
       "      <th></th>\n",
       "      <th></th>\n",
       "      <th></th>\n",
       "      <th></th>\n",
       "      <th>value</th>\n",
       "    </tr>\n",
       "    <tr>\n",
       "      <th>year</th>\n",
       "      <th>Spatial</th>\n",
       "      <th>technology</th>\n",
       "      <th>zone</th>\n",
       "      <th>region</th>\n",
       "      <th></th>\n",
       "    </tr>\n",
       "  </thead>\n",
       "  <tbody>\n",
       "    <tr>\n",
       "      <th rowspan=\"11\" valign=\"top\">2010</th>\n",
       "      <th rowspan=\"11\" valign=\"top\">region</th>\n",
       "      <th rowspan=\"5\" valign=\"top\">HydroRoR</th>\n",
       "      <th>AT</th>\n",
       "      <th>AT</th>\n",
       "      <td>1.000000e+100</td>\n",
       "    </tr>\n",
       "    <tr>\n",
       "      <th>BE</th>\n",
       "      <th>BE</th>\n",
       "      <td>1.000000e+100</td>\n",
       "    </tr>\n",
       "    <tr>\n",
       "      <th>BG</th>\n",
       "      <th>BG</th>\n",
       "      <td>1.000000e+100</td>\n",
       "    </tr>\n",
       "    <tr>\n",
       "      <th>CH</th>\n",
       "      <th>CH</th>\n",
       "      <td>1.000000e+100</td>\n",
       "    </tr>\n",
       "    <tr>\n",
       "      <th>CZ</th>\n",
       "      <th>CZ</th>\n",
       "      <td>1.000000e+100</td>\n",
       "    </tr>\n",
       "    <tr>\n",
       "      <th>...</th>\n",
       "      <th>...</th>\n",
       "      <th>...</th>\n",
       "      <td>...</td>\n",
       "    </tr>\n",
       "    <tr>\n",
       "      <th rowspan=\"5\" valign=\"top\">Windonshore</th>\n",
       "      <th>PT</th>\n",
       "      <th>PT</th>\n",
       "      <td>1.340256e+02</td>\n",
       "    </tr>\n",
       "    <tr>\n",
       "      <th>RO</th>\n",
       "      <th>RO</th>\n",
       "      <td>1.353153e+02</td>\n",
       "    </tr>\n",
       "    <tr>\n",
       "      <th>SE</th>\n",
       "      <th>SE</th>\n",
       "      <td>9.481518e+02</td>\n",
       "    </tr>\n",
       "    <tr>\n",
       "      <th>SK</th>\n",
       "      <th>SK</th>\n",
       "      <td>3.295650e+01</td>\n",
       "    </tr>\n",
       "    <tr>\n",
       "      <th>UK</th>\n",
       "      <th>UK</th>\n",
       "      <td>6.254349e+02</td>\n",
       "    </tr>\n",
       "  </tbody>\n",
       "</table>\n",
       "<p>102 rows × 1 columns</p>\n",
       "</div>"
      ],
      "text/plain": [
       "                                              value\n",
       "year Spatial technology  zone region               \n",
       "2010 region  HydroRoR    AT   AT      1.000000e+100\n",
       "                         BE   BE      1.000000e+100\n",
       "                         BG   BG      1.000000e+100\n",
       "                         CH   CH      1.000000e+100\n",
       "                         CZ   CZ      1.000000e+100\n",
       "...                                             ...\n",
       "             Windonshore PT   PT       1.340256e+02\n",
       "                         RO   RO       1.353153e+02\n",
       "                         SE   SE       9.481518e+02\n",
       "                         SK   SK       3.295650e+01\n",
       "                         UK   UK       6.254349e+02\n",
       "\n",
       "[102 rows x 1 columns]"
      ]
     },
     "execution_count": 87,
     "metadata": {},
     "output_type": "execute_result"
    }
   ],
   "source": [
    "#Area\n",
    "area = makenice(sqlite_list, \"area\")\n",
    "area"
   ]
  },
  {
   "cell_type": "code",
   "execution_count": 97,
   "metadata": {},
   "outputs": [
    {
     "data": {
      "text/html": [
       "<div>\n",
       "<style scoped>\n",
       "    .dataframe tbody tr th:only-of-type {\n",
       "        vertical-align: middle;\n",
       "    }\n",
       "\n",
       "    .dataframe tbody tr th {\n",
       "        vertical-align: top;\n",
       "    }\n",
       "\n",
       "    .dataframe thead th {\n",
       "        text-align: right;\n",
       "    }\n",
       "</style>\n",
       "<table border=\"1\" class=\"dataframe\">\n",
       "  <thead>\n",
       "    <tr style=\"text-align: right;\">\n",
       "      <th></th>\n",
       "      <th></th>\n",
       "      <th></th>\n",
       "      <th>value</th>\n",
       "    </tr>\n",
       "    <tr>\n",
       "      <th>year</th>\n",
       "      <th>Spatial</th>\n",
       "      <th>technology</th>\n",
       "      <th></th>\n",
       "    </tr>\n",
       "  </thead>\n",
       "  <tbody>\n",
       "    <tr>\n",
       "      <th>2010</th>\n",
       "      <th>region</th>\n",
       "      <th>Windonshore</th>\n",
       "      <td>8078.205</td>\n",
       "    </tr>\n",
       "  </tbody>\n",
       "</table>\n",
       "</div>"
      ],
      "text/plain": [
       "                             value\n",
       "year Spatial technology           \n",
       "2010 region  Windonshore  8078.205"
      ]
     },
     "execution_count": 97,
     "metadata": {},
     "output_type": "execute_result"
    }
   ],
   "source": [
    "# querying specific technology with defined scenarios\n",
    "(\n",
    "    area.groupby(\n",
    "        [\"year\", \"Spatial\", \"technology\"]\n",
    "    )\n",
    "    .sum()\n",
    "    .query(\"technology == 'Windonshore'\")\n",
    "    .sort_values(\"value\")\n",
    ")"
   ]
  },
  {
   "cell_type": "code",
   "execution_count": 102,
   "metadata": {},
   "outputs": [
    {
     "data": {
      "text/plain": [
       "<Axes: ylabel='name'>"
      ]
     },
     "execution_count": 102,
     "metadata": {},
     "output_type": "execute_result"
    },
    {
     "data": {
      "image/png": "[encoded data removed]",
      "text/plain": [
       "<Figure size 800x500 with 1 Axes>"
      ]
     },
     "metadata": {},
     "output_type": "display_data"
    }
   ],
   "source": [
    "barplot(\n",
    "    area.groupby(\n",
    "        [\"year\", \"Spatial\", \"technology\"]\n",
    "    )\n",
    "    .sum()\n",
    "    .query(\"technology == 'Windonshore'\")   # Could be filtered any technology here\n",
    ")"
   ]
  },
  {
   "cell_type": "code",
   "execution_count": 103,
   "metadata": {},
   "outputs": [
    {
     "name": "stderr",
     "output_type": "stream",
     "text": [
      "100%|██████████| 1/1 [00:00<00:00, 62.29it/s]\n"
     ]
    },
    {
     "data": {
      "text/html": [
       "<div>\n",
       "<style scoped>\n",
       "    .dataframe tbody tr th:only-of-type {\n",
       "        vertical-align: middle;\n",
       "    }\n",
       "\n",
       "    .dataframe tbody tr th {\n",
       "        vertical-align: top;\n",
       "    }\n",
       "\n",
       "    .dataframe thead th {\n",
       "        text-align: right;\n",
       "    }\n",
       "</style>\n",
       "<table border=\"1\" class=\"dataframe\">\n",
       "  <thead>\n",
       "    <tr style=\"text-align: right;\">\n",
       "      <th></th>\n",
       "      <th></th>\n",
       "      <th></th>\n",
       "      <th>value</th>\n",
       "    </tr>\n",
       "    <tr>\n",
       "      <th>year</th>\n",
       "      <th>Spatial</th>\n",
       "      <th>technology</th>\n",
       "      <th></th>\n",
       "    </tr>\n",
       "  </thead>\n",
       "  <tbody>\n",
       "    <tr>\n",
       "      <th rowspan=\"5\" valign=\"top\">2010</th>\n",
       "      <th rowspan=\"5\" valign=\"top\">region</th>\n",
       "      <th>HydroRes</th>\n",
       "      <td>3.111921e+05</td>\n",
       "    </tr>\n",
       "    <tr>\n",
       "      <th>HydroRoR</th>\n",
       "      <td>1.343183e+05</td>\n",
       "    </tr>\n",
       "    <tr>\n",
       "      <th>Solar</th>\n",
       "      <td>2.860303e+06</td>\n",
       "    </tr>\n",
       "    <tr>\n",
       "      <th>Windoffshore</th>\n",
       "      <td>2.846780e+06</td>\n",
       "    </tr>\n",
       "    <tr>\n",
       "      <th>Windonshore</th>\n",
       "      <td>5.403913e+05</td>\n",
       "    </tr>\n",
       "  </tbody>\n",
       "</table>\n",
       "</div>"
      ],
      "text/plain": [
       "                                  value\n",
       "year Spatial technology                \n",
       "2010 region  HydroRes      3.111921e+05\n",
       "             HydroRoR      1.343183e+05\n",
       "             Solar         2.860303e+06\n",
       "             Windoffshore  2.846780e+06\n",
       "             Windonshore   5.403913e+05"
      ]
     },
     "execution_count": 103,
     "metadata": {},
     "output_type": "execute_result"
    }
   ],
   "source": [
    "# Generation\n",
    "\n",
    "gentot = makenice(sqlite_list, \"gentot\")\n",
    "gentot"
   ]
  },
  {
   "cell_type": "code",
   "execution_count": 104,
   "metadata": {},
   "outputs": [
    {
     "data": {
      "text/plain": [
       "{'GasCCS': '#b20101',\n",
       " 'Gas': '#d35050',\n",
       " 'HydroRes': '#08ad97',\n",
       " 'HydroRoR': '#4adbc8',\n",
       " 'OnWind': '#235ebc',\n",
       " 'Solar': '#f9d002',\n",
       " 'Import': '#8a1caf',\n",
       " 'Windoffshore': '#6895dd',\n",
       " 'Lion': '#baf238',\n",
       " 'PumpedHydro': '#51dbcc'}"
      ]
     },
     "execution_count": 104,
     "metadata": {},
     "output_type": "execute_result"
    }
   ],
   "source": [
    "colordict"
   ]
  },
  {
   "cell_type": "code",
   "execution_count": 116,
   "metadata": {},
   "outputs": [
    {
     "data": {
      "text/plain": [
       "<Axes: title={'center': 'EU electrictiy generation without Hydro 2030'}, xlabel='GWh', ylabel='year,Spatial'>"
      ]
     },
     "execution_count": 116,
     "metadata": {},
     "output_type": "execute_result"
    },
    {
     "data": {
      "image/png": "[encoded data removed]",
      "text/plain": [
       "<Figure size 1200x500 with 1 Axes>"
      ]
     },
     "metadata": {},
     "output_type": "display_data"
    }
   ],
   "source": [
    "scale = 1\n",
    "(\n",
    "    gentot.query(\n",
    "        \"year == '2010'\"\n",
    "    )\n",
    "    .unstack()\n",
    "    .loc[:, \"value\"]\n",
    "    .loc[:, [\"Solar\", \"Windoffshore\", \"Windonshore\"]]\n",
    "    .sort_index()\n",
    "    #.sort_values([\"Windonshore\"])\n",
    "    .rename(columns={\"Windonshore\": \"OnWind\"})\n",
    "    .plot.barh(\n",
    "        stacked = True,\n",
    "        title = \"EU electrictiy generation without Hydro 2030\",\n",
    "        xlabel = \"GWh\",\n",
    "        figsize = (12 / scale, 5 / scale),\n",
    "        color = colordict,\n",
    "    )\n",
    ")"
   ]
  },
  {
   "cell_type": "code",
   "execution_count": 117,
   "metadata": {},
   "outputs": [
    {
     "data": {
      "text/plain": [
       "<Axes: ylabel='name'>"
      ]
     },
     "execution_count": 117,
     "metadata": {},
     "output_type": "execute_result"
    },
    {
     "data": {
      "image/png": "[encoded data removed]",
      "text/plain": [
       "<Figure size 800x500 with 1 Axes>"
      ]
     },
     "metadata": {},
     "output_type": "display_data"
    }
   ],
   "source": [
    "barplot(gentot)"
   ]
  },
  {
   "cell_type": "code",
   "execution_count": null,
   "metadata": {},
   "outputs": [],
   "source": [
    "# not added the import scenario results analysis as gentot didnot contain the import as technology"
   ]
  },
  {
   "cell_type": "code",
   "execution_count": 118,
   "metadata": {},
   "outputs": [
    {
     "name": "stderr",
     "output_type": "stream",
     "text": [
      "100%|██████████| 1/1 [00:00<00:00, 147.67it/s]\n"
     ]
    }
   ],
   "source": [
    "storage_gen_tot = makenice(sqlite_list, \"storage_gen_tot\")"
   ]
  },
  {
   "cell_type": "code",
   "execution_count": 130,
   "metadata": {},
   "outputs": [
    {
     "data": {
      "text/html": [
       "<div>\n",
       "<style scoped>\n",
       "    .dataframe tbody tr th:only-of-type {\n",
       "        vertical-align: middle;\n",
       "    }\n",
       "\n",
       "    .dataframe tbody tr th {\n",
       "        vertical-align: top;\n",
       "    }\n",
       "\n",
       "    .dataframe thead th {\n",
       "        text-align: right;\n",
       "    }\n",
       "</style>\n",
       "<table border=\"1\" class=\"dataframe\">\n",
       "  <thead>\n",
       "    <tr style=\"text-align: right;\">\n",
       "      <th></th>\n",
       "      <th></th>\n",
       "      <th></th>\n",
       "      <th>value</th>\n",
       "    </tr>\n",
       "    <tr>\n",
       "      <th>year</th>\n",
       "      <th>Spatial</th>\n",
       "      <th>technology</th>\n",
       "      <th></th>\n",
       "    </tr>\n",
       "  </thead>\n",
       "  <tbody>\n",
       "    <tr>\n",
       "      <th rowspan=\"2\" valign=\"top\">2010</th>\n",
       "      <th rowspan=\"2\" valign=\"top\">region</th>\n",
       "      <th>Li-ion-8</th>\n",
       "      <td>980274.443059</td>\n",
       "    </tr>\n",
       "    <tr>\n",
       "      <th>PumpedHydro</th>\n",
       "      <td>3015.155335</td>\n",
       "    </tr>\n",
       "  </tbody>\n",
       "</table>\n",
       "</div>"
      ],
      "text/plain": [
       "                                  value\n",
       "year Spatial technology                \n",
       "2010 region  Li-ion-8     980274.443059\n",
       "             PumpedHydro    3015.155335"
      ]
     },
     "execution_count": 130,
     "metadata": {},
     "output_type": "execute_result"
    }
   ],
   "source": [
    "storage_gen_tot"
   ]
  },
  {
   "cell_type": "code",
   "execution_count": 119,
   "metadata": {},
   "outputs": [
    {
     "name": "stderr",
     "output_type": "stream",
     "text": [
      "100%|██████████| 1/1 [00:11<00:00, 11.92s/it]\n"
     ]
    }
   ],
   "source": [
    "# Genration hourly\n",
    "gen = makenice(sqlite_list, \"gen\")"
   ]
  },
  {
   "cell_type": "code",
   "execution_count": 120,
   "metadata": {},
   "outputs": [
    {
     "data": {
      "text/html": [
       "<div>\n",
       "<style scoped>\n",
       "    .dataframe tbody tr th:only-of-type {\n",
       "        vertical-align: middle;\n",
       "    }\n",
       "\n",
       "    .dataframe tbody tr th {\n",
       "        vertical-align: top;\n",
       "    }\n",
       "\n",
       "    .dataframe thead th {\n",
       "        text-align: right;\n",
       "    }\n",
       "</style>\n",
       "<table border=\"1\" class=\"dataframe\">\n",
       "  <thead>\n",
       "    <tr style=\"text-align: right;\">\n",
       "      <th></th>\n",
       "      <th></th>\n",
       "      <th></th>\n",
       "      <th></th>\n",
       "      <th></th>\n",
       "      <th></th>\n",
       "      <th>genamttot</th>\n",
       "    </tr>\n",
       "    <tr>\n",
       "      <th>year</th>\n",
       "      <th>Spatial</th>\n",
       "      <th>hour</th>\n",
       "      <th>zone</th>\n",
       "      <th>technology</th>\n",
       "      <th>level_3</th>\n",
       "      <th></th>\n",
       "    </tr>\n",
       "  </thead>\n",
       "  <tbody>\n",
       "    <tr>\n",
       "      <th rowspan=\"11\" valign=\"top\">2010</th>\n",
       "      <th rowspan=\"11\" valign=\"top\">region</th>\n",
       "      <th rowspan=\"5\" valign=\"top\">0</th>\n",
       "      <th rowspan=\"5\" valign=\"top\">AT</th>\n",
       "      <th rowspan=\"4\" valign=\"top\">HydroRes</th>\n",
       "      <th>level</th>\n",
       "      <td>4.180217e-04</td>\n",
       "    </tr>\n",
       "    <tr>\n",
       "      <th>lo</th>\n",
       "      <td>0.000000e+00</td>\n",
       "    </tr>\n",
       "    <tr>\n",
       "      <th>marginal</th>\n",
       "      <td>5.115027e-06</td>\n",
       "    </tr>\n",
       "    <tr>\n",
       "      <th>up</th>\n",
       "      <td>1.000000e+100</td>\n",
       "    </tr>\n",
       "    <tr>\n",
       "      <th>HydroRoR</th>\n",
       "      <th>level</th>\n",
       "      <td>1.274820e+00</td>\n",
       "    </tr>\n",
       "    <tr>\n",
       "      <th>...</th>\n",
       "      <th>...</th>\n",
       "      <th>...</th>\n",
       "      <th>...</th>\n",
       "      <td>...</td>\n",
       "    </tr>\n",
       "    <tr>\n",
       "      <th rowspan=\"5\" valign=\"top\">8759</th>\n",
       "      <th rowspan=\"5\" valign=\"top\">UK</th>\n",
       "      <th>Windoffshore</th>\n",
       "      <th>up</th>\n",
       "      <td>1.000000e+100</td>\n",
       "    </tr>\n",
       "    <tr>\n",
       "      <th rowspan=\"4\" valign=\"top\">Windonshore</th>\n",
       "      <th>level</th>\n",
       "      <td>2.343273e-06</td>\n",
       "    </tr>\n",
       "    <tr>\n",
       "      <th>lo</th>\n",
       "      <td>0.000000e+00</td>\n",
       "    </tr>\n",
       "    <tr>\n",
       "      <th>marginal</th>\n",
       "      <td>0.000000e+00</td>\n",
       "    </tr>\n",
       "    <tr>\n",
       "      <th>up</th>\n",
       "      <td>1.000000e+100</td>\n",
       "    </tr>\n",
       "  </tbody>\n",
       "</table>\n",
       "<p>6587520 rows × 1 columns</p>\n",
       "</div>"
      ],
      "text/plain": [
       "                                                  genamttot\n",
       "year Spatial hour zone technology   level_3                \n",
       "2010 region  0    AT   HydroRes     level      4.180217e-04\n",
       "                                    lo         0.000000e+00\n",
       "                                    marginal   5.115027e-06\n",
       "                                    up        1.000000e+100\n",
       "                       HydroRoR     level      1.274820e+00\n",
       "...                                                     ...\n",
       "             8759 UK   Windoffshore up        1.000000e+100\n",
       "                       Windonshore  level      2.343273e-06\n",
       "                                    lo         0.000000e+00\n",
       "                                    marginal   0.000000e+00\n",
       "                                    up        1.000000e+100\n",
       "\n",
       "[6587520 rows x 1 columns]"
      ]
     },
     "execution_count": 120,
     "metadata": {},
     "output_type": "execute_result"
    }
   ],
   "source": [
    "gen"
   ]
  },
  {
   "cell_type": "code",
   "execution_count": null,
   "metadata": {},
   "outputs": [],
   "source": [
    "#zstandard package need to be install for compression process\n",
    "gen.to_csv(\n",
    "    \"gen.csv\" + compressionfileending, compression=compressiondict\n",
    ")"
   ]
  },
  {
   "cell_type": "code",
   "execution_count": 123,
   "metadata": {},
   "outputs": [
    {
     "name": "stderr",
     "output_type": "stream",
     "text": [
      "100%|██████████| 1/1 [00:00<00:00, 62.74it/s]\n"
     ]
    }
   ],
   "source": [
    "#Storage\n",
    "storetot = makenice(sqlite_list, \"storage_pcap\")"
   ]
  },
  {
   "cell_type": "code",
   "execution_count": 124,
   "metadata": {},
   "outputs": [
    {
     "data": {
      "text/html": [
       "<div>\n",
       "<style scoped>\n",
       "    .dataframe tbody tr th:only-of-type {\n",
       "        vertical-align: middle;\n",
       "    }\n",
       "\n",
       "    .dataframe tbody tr th {\n",
       "        vertical-align: top;\n",
       "    }\n",
       "\n",
       "    .dataframe thead th {\n",
       "        text-align: right;\n",
       "    }\n",
       "</style>\n",
       "<table border=\"1\" class=\"dataframe\">\n",
       "  <thead>\n",
       "    <tr style=\"text-align: right;\">\n",
       "      <th></th>\n",
       "      <th></th>\n",
       "      <th></th>\n",
       "      <th></th>\n",
       "      <th>storepcaptot</th>\n",
       "    </tr>\n",
       "    <tr>\n",
       "      <th>year</th>\n",
       "      <th>Spatial</th>\n",
       "      <th>technology</th>\n",
       "      <th>level_1</th>\n",
       "      <th></th>\n",
       "    </tr>\n",
       "  </thead>\n",
       "  <tbody>\n",
       "    <tr>\n",
       "      <th rowspan=\"8\" valign=\"top\">2010</th>\n",
       "      <th rowspan=\"8\" valign=\"top\">region</th>\n",
       "      <th rowspan=\"4\" valign=\"top\">Li-ion-8</th>\n",
       "      <th>level</th>\n",
       "      <td>7.111182e+02</td>\n",
       "    </tr>\n",
       "    <tr>\n",
       "      <th>lo</th>\n",
       "      <td>0.000000e+00</td>\n",
       "    </tr>\n",
       "    <tr>\n",
       "      <th>marginal</th>\n",
       "      <td>0.000000e+00</td>\n",
       "    </tr>\n",
       "    <tr>\n",
       "      <th>up</th>\n",
       "      <td>1.000000e+100</td>\n",
       "    </tr>\n",
       "    <tr>\n",
       "      <th rowspan=\"4\" valign=\"top\">PumpedHydro</th>\n",
       "      <th>level</th>\n",
       "      <td>4.397681e+01</td>\n",
       "    </tr>\n",
       "    <tr>\n",
       "      <th>lo</th>\n",
       "      <td>0.000000e+00</td>\n",
       "    </tr>\n",
       "    <tr>\n",
       "      <th>marginal</th>\n",
       "      <td>0.000000e+00</td>\n",
       "    </tr>\n",
       "    <tr>\n",
       "      <th>up</th>\n",
       "      <td>1.000000e+100</td>\n",
       "    </tr>\n",
       "  </tbody>\n",
       "</table>\n",
       "</div>"
      ],
      "text/plain": [
       "                                    storepcaptot\n",
       "year Spatial technology  level_1                \n",
       "2010 region  Li-ion-8    level      7.111182e+02\n",
       "                         lo         0.000000e+00\n",
       "                         marginal   0.000000e+00\n",
       "                         up        1.000000e+100\n",
       "             PumpedHydro level      4.397681e+01\n",
       "                         lo         0.000000e+00\n",
       "                         marginal   0.000000e+00\n",
       "                         up        1.000000e+100"
      ]
     },
     "execution_count": 124,
     "metadata": {},
     "output_type": "execute_result"
    }
   ],
   "source": [
    "storetot"
   ]
  },
  {
   "cell_type": "code",
   "execution_count": 128,
   "metadata": {},
   "outputs": [
    {
     "data": {
      "text/plain": [
       "<Axes: title={'center': 'EU electrictiy storage capcacity 2030'}, xlabel='GW', ylabel='year,Spatial'>"
      ]
     },
     "execution_count": 128,
     "metadata": {},
     "output_type": "execute_result"
    },
    {
     "data": {
      "image/png": "[encoded data removed]",
      "text/plain": [
       "<Figure size 1500x500 with 1 Axes>"
      ]
     },
     "metadata": {},
     "output_type": "display_data"
    }
   ],
   "source": [
    "(\n",
    "    storetot.query(\"level_1 == 'level'\")\n",
    "    .droplevel(\"level_1\")\n",
    "    .unstack()\n",
    "    .loc[:, \"storepcaptot\"] #.loc choosing only storepcaptot column (all of its sub_columns are choosen)\n",
    "    # .loc[:,[\"Import\",\"Solar\",\"Windoffshore\",\"Windonshore\"]]\n",
    "    # .sort_values([\"Windonshore\"])\n",
    "    # .rename(columns={\"Windonshore\":\"OnWind\"})\n",
    "    .plot.barh(\n",
    "        stacked=True,\n",
    "        title=\"EU electrictiy storage capcacity 2030\",\n",
    "        # ylabel=\"Scenario\",\n",
    "        xlabel=\"GW\",\n",
    "        figsize=(15 / scale, 5 / scale),\n",
    "        # color=colordict        \n",
    "    )\n",
    ")"
   ]
  },
  {
   "cell_type": "code",
   "execution_count": 129,
   "metadata": {},
   "outputs": [
    {
     "data": {
      "text/html": [
       "<div>\n",
       "<style scoped>\n",
       "    .dataframe tbody tr th:only-of-type {\n",
       "        vertical-align: middle;\n",
       "    }\n",
       "\n",
       "    .dataframe tbody tr th {\n",
       "        vertical-align: top;\n",
       "    }\n",
       "\n",
       "    .dataframe thead th {\n",
       "        text-align: right;\n",
       "    }\n",
       "</style>\n",
       "<table border=\"1\" class=\"dataframe\">\n",
       "  <thead>\n",
       "    <tr style=\"text-align: right;\">\n",
       "      <th></th>\n",
       "      <th></th>\n",
       "      <th></th>\n",
       "      <th></th>\n",
       "      <th>storepcaptot</th>\n",
       "    </tr>\n",
       "    <tr>\n",
       "      <th>year</th>\n",
       "      <th>Spatial</th>\n",
       "      <th>technology</th>\n",
       "      <th>level_1</th>\n",
       "      <th></th>\n",
       "    </tr>\n",
       "  </thead>\n",
       "  <tbody>\n",
       "    <tr>\n",
       "      <th rowspan=\"8\" valign=\"top\">2010</th>\n",
       "      <th rowspan=\"8\" valign=\"top\">region</th>\n",
       "      <th rowspan=\"4\" valign=\"top\">Li-ion-8</th>\n",
       "      <th>level</th>\n",
       "      <td>7.111182e+02</td>\n",
       "    </tr>\n",
       "    <tr>\n",
       "      <th>lo</th>\n",
       "      <td>0.000000e+00</td>\n",
       "    </tr>\n",
       "    <tr>\n",
       "      <th>marginal</th>\n",
       "      <td>0.000000e+00</td>\n",
       "    </tr>\n",
       "    <tr>\n",
       "      <th>up</th>\n",
       "      <td>1.000000e+100</td>\n",
       "    </tr>\n",
       "    <tr>\n",
       "      <th rowspan=\"4\" valign=\"top\">PumpedHydro</th>\n",
       "      <th>level</th>\n",
       "      <td>4.397681e+01</td>\n",
       "    </tr>\n",
       "    <tr>\n",
       "      <th>lo</th>\n",
       "      <td>0.000000e+00</td>\n",
       "    </tr>\n",
       "    <tr>\n",
       "      <th>marginal</th>\n",
       "      <td>0.000000e+00</td>\n",
       "    </tr>\n",
       "    <tr>\n",
       "      <th>up</th>\n",
       "      <td>1.000000e+100</td>\n",
       "    </tr>\n",
       "  </tbody>\n",
       "</table>\n",
       "</div>"
      ],
      "text/plain": [
       "                                    storepcaptot\n",
       "year Spatial technology  level_1                \n",
       "2010 region  Li-ion-8    level      7.111182e+02\n",
       "                         lo         0.000000e+00\n",
       "                         marginal   0.000000e+00\n",
       "                         up        1.000000e+100\n",
       "             PumpedHydro level      4.397681e+01\n",
       "                         lo         0.000000e+00\n",
       "                         marginal   0.000000e+00\n",
       "                         up        1.000000e+100"
      ]
     },
     "execution_count": 129,
     "metadata": {},
     "output_type": "execute_result"
    }
   ],
   "source": [
    "storetot"
   ]
  },
  {
   "cell_type": "code",
   "execution_count": 131,
   "metadata": {},
   "outputs": [
    {
     "data": {
      "text/html": [
       "<div>\n",
       "<style scoped>\n",
       "    .dataframe tbody tr th:only-of-type {\n",
       "        vertical-align: middle;\n",
       "    }\n",
       "\n",
       "    .dataframe tbody tr th {\n",
       "        vertical-align: top;\n",
       "    }\n",
       "\n",
       "    .dataframe thead th {\n",
       "        text-align: right;\n",
       "    }\n",
       "</style>\n",
       "<table border=\"1\" class=\"dataframe\">\n",
       "  <thead>\n",
       "    <tr style=\"text-align: right;\">\n",
       "      <th></th>\n",
       "      <th></th>\n",
       "      <th></th>\n",
       "      <th>value</th>\n",
       "    </tr>\n",
       "    <tr>\n",
       "      <th>year</th>\n",
       "      <th>Spatial</th>\n",
       "      <th>technology</th>\n",
       "      <th></th>\n",
       "    </tr>\n",
       "  </thead>\n",
       "  <tbody>\n",
       "    <tr>\n",
       "      <th rowspan=\"5\" valign=\"top\">2010</th>\n",
       "      <th rowspan=\"5\" valign=\"top\">region</th>\n",
       "      <th>HydroRes</th>\n",
       "      <td>3.111921e+05</td>\n",
       "    </tr>\n",
       "    <tr>\n",
       "      <th>HydroRoR</th>\n",
       "      <td>1.343183e+05</td>\n",
       "    </tr>\n",
       "    <tr>\n",
       "      <th>Solar</th>\n",
       "      <td>2.860303e+06</td>\n",
       "    </tr>\n",
       "    <tr>\n",
       "      <th>Windoffshore</th>\n",
       "      <td>2.846780e+06</td>\n",
       "    </tr>\n",
       "    <tr>\n",
       "      <th>Windonshore</th>\n",
       "      <td>5.403913e+05</td>\n",
       "    </tr>\n",
       "  </tbody>\n",
       "</table>\n",
       "</div>"
      ],
      "text/plain": [
       "                                  value\n",
       "year Spatial technology                \n",
       "2010 region  HydroRes      3.111921e+05\n",
       "             HydroRoR      1.343183e+05\n",
       "             Solar         2.860303e+06\n",
       "             Windoffshore  2.846780e+06\n",
       "             Windonshore   5.403913e+05"
      ]
     },
     "execution_count": 131,
     "metadata": {},
     "output_type": "execute_result"
    }
   ],
   "source": [
    "gentot"
   ]
  },
  {
   "cell_type": "code",
   "execution_count": 132,
   "metadata": {},
   "outputs": [
    {
     "data": {
      "text/html": [
       "<div>\n",
       "<style scoped>\n",
       "    .dataframe tbody tr th:only-of-type {\n",
       "        vertical-align: middle;\n",
       "    }\n",
       "\n",
       "    .dataframe tbody tr th {\n",
       "        vertical-align: top;\n",
       "    }\n",
       "\n",
       "    .dataframe thead th {\n",
       "        text-align: right;\n",
       "    }\n",
       "</style>\n",
       "<table border=\"1\" class=\"dataframe\">\n",
       "  <thead>\n",
       "    <tr style=\"text-align: right;\">\n",
       "      <th></th>\n",
       "      <th></th>\n",
       "      <th></th>\n",
       "      <th>value</th>\n",
       "    </tr>\n",
       "    <tr>\n",
       "      <th>year</th>\n",
       "      <th>Spatial</th>\n",
       "      <th>technology</th>\n",
       "      <th></th>\n",
       "    </tr>\n",
       "  </thead>\n",
       "  <tbody>\n",
       "    <tr>\n",
       "      <th rowspan=\"2\" valign=\"top\">2010</th>\n",
       "      <th rowspan=\"2\" valign=\"top\">region</th>\n",
       "      <th>Li-ion-8</th>\n",
       "      <td>980274.443059</td>\n",
       "    </tr>\n",
       "    <tr>\n",
       "      <th>PumpedHydro</th>\n",
       "      <td>3015.155335</td>\n",
       "    </tr>\n",
       "  </tbody>\n",
       "</table>\n",
       "</div>"
      ],
      "text/plain": [
       "                                  value\n",
       "year Spatial technology                \n",
       "2010 region  Li-ion-8     980274.443059\n",
       "             PumpedHydro    3015.155335"
      ]
     },
     "execution_count": 132,
     "metadata": {},
     "output_type": "execute_result"
    }
   ],
   "source": [
    "storage_gen_tot"
   ]
  },
  {
   "cell_type": "code",
   "execution_count": 136,
   "metadata": {},
   "outputs": [
    {
     "data": {
      "text/html": [
       "<div>\n",
       "<style scoped>\n",
       "    .dataframe tbody tr th:only-of-type {\n",
       "        vertical-align: middle;\n",
       "    }\n",
       "\n",
       "    .dataframe tbody tr th {\n",
       "        vertical-align: top;\n",
       "    }\n",
       "\n",
       "    .dataframe thead th {\n",
       "        text-align: right;\n",
       "    }\n",
       "</style>\n",
       "<table border=\"1\" class=\"dataframe\">\n",
       "  <thead>\n",
       "    <tr style=\"text-align: right;\">\n",
       "      <th></th>\n",
       "      <th>technology</th>\n",
       "      <th>Lion</th>\n",
       "      <th>PumpedHydro</th>\n",
       "      <th>Solar</th>\n",
       "      <th>Windoffshore</th>\n",
       "      <th>OnWind</th>\n",
       "    </tr>\n",
       "    <tr>\n",
       "      <th>year</th>\n",
       "      <th>Spatial</th>\n",
       "      <th></th>\n",
       "      <th></th>\n",
       "      <th></th>\n",
       "      <th></th>\n",
       "      <th></th>\n",
       "    </tr>\n",
       "  </thead>\n",
       "  <tbody>\n",
       "    <tr>\n",
       "      <th>2010</th>\n",
       "      <th>region</th>\n",
       "      <td>980274.443059</td>\n",
       "      <td>3015.155335</td>\n",
       "      <td>2.860303e+06</td>\n",
       "      <td>2.846780e+06</td>\n",
       "      <td>540391.317512</td>\n",
       "    </tr>\n",
       "  </tbody>\n",
       "</table>\n",
       "</div>"
      ],
      "text/plain": [
       "technology             Lion  PumpedHydro         Solar  Windoffshore  \\\n",
       "year Spatial                                                           \n",
       "2010 region   980274.443059  3015.155335  2.860303e+06  2.846780e+06   \n",
       "\n",
       "technology           OnWind  \n",
       "year Spatial                 \n",
       "2010 region   540391.317512  "
      ]
     },
     "execution_count": 136,
     "metadata": {},
     "output_type": "execute_result"
    }
   ],
   "source": [
    "(\n",
    "    pd.concat([gentot, storage_gen_tot.rename(columns={\"storecaptot\":\"value\"})])\n",
    "    .unstack()\n",
    "    .loc[:, \"value\"]\n",
    "    .rename(columns={\"Li-ion-8\": \"Lion\", \"Windonshore\": \"OnWind\"})\n",
    "    .drop(columns=[\"HydroRes\", \"HydroRoR\"])\n",
    "    #.query(\"Neigh == 'None'\")\n",
    "    # .iloc[-3:,:]\n",
    "    # .query(\"Solar == 'Low'\")\n",
    "    # .plot.barh(\n",
    "    #    stacked=True,\n",
    "    #    title=\"Norwegian electricity generation 2030\",\n",
    "    #    # ylabel=\"Scenario\",\n",
    "    #    xlabel=\"GWh\",\n",
    "    #    figsize=(21.533 / scale, 12.582 / scale),\n",
    "    #    color=colordict,\n",
    ")"
   ]
  },
  {
   "cell_type": "code",
   "execution_count": 140,
   "metadata": {},
   "outputs": [
    {
     "data": {
      "text/html": [
       "<div>\n",
       "<style scoped>\n",
       "    .dataframe tbody tr th:only-of-type {\n",
       "        vertical-align: middle;\n",
       "    }\n",
       "\n",
       "    .dataframe tbody tr th {\n",
       "        vertical-align: top;\n",
       "    }\n",
       "\n",
       "    .dataframe thead th {\n",
       "        text-align: right;\n",
       "    }\n",
       "</style>\n",
       "<table border=\"1\" class=\"dataframe\">\n",
       "  <thead>\n",
       "    <tr style=\"text-align: right;\">\n",
       "      <th></th>\n",
       "      <th></th>\n",
       "      <th></th>\n",
       "      <th>value</th>\n",
       "      <th>storepcaptot</th>\n",
       "    </tr>\n",
       "    <tr>\n",
       "      <th>year</th>\n",
       "      <th>Spatial</th>\n",
       "      <th>technology</th>\n",
       "      <th></th>\n",
       "      <th></th>\n",
       "    </tr>\n",
       "  </thead>\n",
       "  <tbody>\n",
       "    <tr>\n",
       "      <th rowspan=\"13\" valign=\"top\">2010</th>\n",
       "      <th rowspan=\"13\" valign=\"top\">region</th>\n",
       "      <th>HydroRes</th>\n",
       "      <td>3.111921e+05</td>\n",
       "      <td>NaN</td>\n",
       "    </tr>\n",
       "    <tr>\n",
       "      <th>HydroRoR</th>\n",
       "      <td>1.343183e+05</td>\n",
       "      <td>NaN</td>\n",
       "    </tr>\n",
       "    <tr>\n",
       "      <th>Solar</th>\n",
       "      <td>2.860303e+06</td>\n",
       "      <td>NaN</td>\n",
       "    </tr>\n",
       "    <tr>\n",
       "      <th>Windoffshore</th>\n",
       "      <td>2.846780e+06</td>\n",
       "      <td>NaN</td>\n",
       "    </tr>\n",
       "    <tr>\n",
       "      <th>Windonshore</th>\n",
       "      <td>5.403913e+05</td>\n",
       "      <td>NaN</td>\n",
       "    </tr>\n",
       "    <tr>\n",
       "      <th>Li-ion-8</th>\n",
       "      <td>NaN</td>\n",
       "      <td>7.111182e+02</td>\n",
       "    </tr>\n",
       "    <tr>\n",
       "      <th>Li-ion-8</th>\n",
       "      <td>NaN</td>\n",
       "      <td>0.000000e+00</td>\n",
       "    </tr>\n",
       "    <tr>\n",
       "      <th>Li-ion-8</th>\n",
       "      <td>NaN</td>\n",
       "      <td>0.000000e+00</td>\n",
       "    </tr>\n",
       "    <tr>\n",
       "      <th>Li-ion-8</th>\n",
       "      <td>NaN</td>\n",
       "      <td>1.000000e+100</td>\n",
       "    </tr>\n",
       "    <tr>\n",
       "      <th>PumpedHydro</th>\n",
       "      <td>NaN</td>\n",
       "      <td>4.397681e+01</td>\n",
       "    </tr>\n",
       "    <tr>\n",
       "      <th>PumpedHydro</th>\n",
       "      <td>NaN</td>\n",
       "      <td>0.000000e+00</td>\n",
       "    </tr>\n",
       "    <tr>\n",
       "      <th>PumpedHydro</th>\n",
       "      <td>NaN</td>\n",
       "      <td>0.000000e+00</td>\n",
       "    </tr>\n",
       "    <tr>\n",
       "      <th>PumpedHydro</th>\n",
       "      <td>NaN</td>\n",
       "      <td>1.000000e+100</td>\n",
       "    </tr>\n",
       "  </tbody>\n",
       "</table>\n",
       "</div>"
      ],
      "text/plain": [
       "                                  value   storepcaptot\n",
       "year Spatial technology                               \n",
       "2010 region  HydroRes      3.111921e+05            NaN\n",
       "             HydroRoR      1.343183e+05            NaN\n",
       "             Solar         2.860303e+06            NaN\n",
       "             Windoffshore  2.846780e+06            NaN\n",
       "             Windonshore   5.403913e+05            NaN\n",
       "             Li-ion-8               NaN   7.111182e+02\n",
       "             Li-ion-8               NaN   0.000000e+00\n",
       "             Li-ion-8               NaN   0.000000e+00\n",
       "             Li-ion-8               NaN  1.000000e+100\n",
       "             PumpedHydro            NaN   4.397681e+01\n",
       "             PumpedHydro            NaN   0.000000e+00\n",
       "             PumpedHydro            NaN   0.000000e+00\n",
       "             PumpedHydro            NaN  1.000000e+100"
      ]
     },
     "execution_count": 140,
     "metadata": {},
     "output_type": "execute_result"
    }
   ],
   "source": [
    "#Need to refine further\n",
    "result = pd.concat([gentot, storetot])\n",
    "result"
   ]
  },
  {
   "cell_type": "code",
   "execution_count": 142,
   "metadata": {},
   "outputs": [
    {
     "name": "stderr",
     "output_type": "stream",
     "text": [
      "100%|██████████| 1/1 [00:00<00:00, 69.84it/s]\n"
     ]
    },
    {
     "data": {
      "text/html": [
       "<div>\n",
       "<style scoped>\n",
       "    .dataframe tbody tr th:only-of-type {\n",
       "        vertical-align: middle;\n",
       "    }\n",
       "\n",
       "    .dataframe tbody tr th {\n",
       "        vertical-align: top;\n",
       "    }\n",
       "\n",
       "    .dataframe thead th {\n",
       "        text-align: right;\n",
       "    }\n",
       "</style>\n",
       "<table border=\"1\" class=\"dataframe\">\n",
       "  <thead>\n",
       "    <tr style=\"text-align: right;\">\n",
       "      <th></th>\n",
       "      <th></th>\n",
       "      <th></th>\n",
       "      <th></th>\n",
       "      <th>costs</th>\n",
       "    </tr>\n",
       "    <tr>\n",
       "      <th>year</th>\n",
       "      <th>Spatial</th>\n",
       "      <th>variable</th>\n",
       "      <th>level_1</th>\n",
       "      <th></th>\n",
       "    </tr>\n",
       "  </thead>\n",
       "  <tbody>\n",
       "    <tr>\n",
       "      <th rowspan=\"4\" valign=\"top\">2010</th>\n",
       "      <th rowspan=\"4\" valign=\"top\">region</th>\n",
       "      <th rowspan=\"4\" valign=\"top\">costs</th>\n",
       "      <th>level</th>\n",
       "      <td>3.603045e+05</td>\n",
       "    </tr>\n",
       "    <tr>\n",
       "      <th>lo</th>\n",
       "      <td>-1.000000e+100</td>\n",
       "    </tr>\n",
       "    <tr>\n",
       "      <th>marginal</th>\n",
       "      <td>0.000000e+00</td>\n",
       "    </tr>\n",
       "    <tr>\n",
       "      <th>up</th>\n",
       "      <td>1.000000e+100</td>\n",
       "    </tr>\n",
       "  </tbody>\n",
       "</table>\n",
       "</div>"
      ],
      "text/plain": [
       "                                        costs\n",
       "year Spatial variable level_1                \n",
       "2010 region  costs    level      3.603045e+05\n",
       "                      lo       -1.000000e+100\n",
       "                      marginal   0.000000e+00\n",
       "                      up        1.000000e+100"
      ]
     },
     "execution_count": 142,
     "metadata": {},
     "output_type": "execute_result"
    }
   ],
   "source": [
    "#costs\n",
    "costs = makenice(sqlite_list, \"cost\")\n",
    "costs"
   ]
  },
  {
   "cell_type": "code",
   "execution_count": 144,
   "metadata": {},
   "outputs": [
    {
     "data": {
      "text/html": [
       "<div>\n",
       "<style scoped>\n",
       "    .dataframe tbody tr th:only-of-type {\n",
       "        vertical-align: middle;\n",
       "    }\n",
       "\n",
       "    .dataframe tbody tr th {\n",
       "        vertical-align: top;\n",
       "    }\n",
       "\n",
       "    .dataframe thead th {\n",
       "        text-align: right;\n",
       "    }\n",
       "</style>\n",
       "<table border=\"1\" class=\"dataframe\">\n",
       "  <thead>\n",
       "    <tr style=\"text-align: right;\">\n",
       "      <th></th>\n",
       "      <th></th>\n",
       "      <th></th>\n",
       "      <th></th>\n",
       "      <th>costs</th>\n",
       "    </tr>\n",
       "    <tr>\n",
       "      <th>year</th>\n",
       "      <th>Spatial</th>\n",
       "      <th>variable</th>\n",
       "      <th>level_1</th>\n",
       "      <th></th>\n",
       "    </tr>\n",
       "  </thead>\n",
       "  <tbody>\n",
       "    <tr>\n",
       "      <th>2010</th>\n",
       "      <th>region</th>\n",
       "      <th>costs</th>\n",
       "      <th>level</th>\n",
       "      <td>360304.547708</td>\n",
       "    </tr>\n",
       "  </tbody>\n",
       "</table>\n",
       "</div>"
      ],
      "text/plain": [
       "                                       costs\n",
       "year Spatial variable level_1               \n",
       "2010 region  costs    level    360304.547708"
      ]
     },
     "execution_count": 144,
     "metadata": {},
     "output_type": "execute_result"
    }
   ],
   "source": [
    "costs.query('level_1 == \"level\"')"
   ]
  },
  {
   "cell_type": "code",
   "execution_count": 153,
   "metadata": {},
   "outputs": [
    {
     "data": {
      "text/plain": [
       "<Axes: ylabel='name'>"
      ]
     },
     "execution_count": 153,
     "metadata": {},
     "output_type": "execute_result"
    },
    {
     "data": {
      "image/png": "[encoded data removed]",
      "text/plain": [
       "<Figure size 1000x300 with 1 Axes>"
      ]
     },
     "metadata": {},
     "output_type": "display_data"
    }
   ],
   "source": [
    "(\n",
    "    costs.reset_index()\n",
    "    .assign(\n",
    "        name=lambda df: df.year.astype(str)\n",
    "        + \"_\"\n",
    "        + df.Spatial\n",
    "    )\n",
    "    .query('level_1 == \"level\"')\n",
    "    .drop(columns=[\"variable\", \"level_1\"])\n",
    "    .set_index(\"name\")\n",
    "    .sort_values(by=\"costs\")\n",
    "    .loc[:, \"costs\"]\n",
    "    .plot.barh(figsize=(10, 3))\n",
    ")"
   ]
  },
  {
   "cell_type": "code",
   "execution_count": null,
   "metadata": {},
   "outputs": [],
   "source": [
    "#???\n",
    "df_costs.loc[(slice(None), \"var_system_costs\", slice(None))]"
   ]
  },
  {
   "cell_type": "code",
   "execution_count": 154,
   "metadata": {},
   "outputs": [
    {
     "name": "stderr",
     "output_type": "stream",
     "text": [
      "100%|██████████| 1/1 [00:00<00:00, 49.41it/s]\n"
     ]
    },
    {
     "data": {
      "text/html": [
       "<div>\n",
       "<style scoped>\n",
       "    .dataframe tbody tr th:only-of-type {\n",
       "        vertical-align: middle;\n",
       "    }\n",
       "\n",
       "    .dataframe tbody tr th {\n",
       "        vertical-align: top;\n",
       "    }\n",
       "\n",
       "    .dataframe thead th {\n",
       "        text-align: right;\n",
       "    }\n",
       "</style>\n",
       "<table border=\"1\" class=\"dataframe\">\n",
       "  <thead>\n",
       "    <tr style=\"text-align: right;\">\n",
       "      <th></th>\n",
       "      <th></th>\n",
       "      <th></th>\n",
       "      <th></th>\n",
       "      <th>gencaptot</th>\n",
       "    </tr>\n",
       "    <tr>\n",
       "      <th>year</th>\n",
       "      <th>Spatial</th>\n",
       "      <th>technology</th>\n",
       "      <th>level_1</th>\n",
       "      <th></th>\n",
       "    </tr>\n",
       "  </thead>\n",
       "  <tbody>\n",
       "    <tr>\n",
       "      <th rowspan=\"28\" valign=\"top\">2010</th>\n",
       "      <th rowspan=\"28\" valign=\"top\">region</th>\n",
       "      <th rowspan=\"4\" valign=\"top\">HydroRes</th>\n",
       "      <th>level</th>\n",
       "      <td>9.400671e+01</td>\n",
       "    </tr>\n",
       "    <tr>\n",
       "      <th>lo</th>\n",
       "      <td>0.000000e+00</td>\n",
       "    </tr>\n",
       "    <tr>\n",
       "      <th>marginal</th>\n",
       "      <td>0.000000e+00</td>\n",
       "    </tr>\n",
       "    <tr>\n",
       "      <th>up</th>\n",
       "      <td>1.000000e+100</td>\n",
       "    </tr>\n",
       "    <tr>\n",
       "      <th rowspan=\"4\" valign=\"top\">HydroRoR</th>\n",
       "      <th>level</th>\n",
       "      <td>6.682853e+01</td>\n",
       "    </tr>\n",
       "    <tr>\n",
       "      <th>lo</th>\n",
       "      <td>0.000000e+00</td>\n",
       "    </tr>\n",
       "    <tr>\n",
       "      <th>marginal</th>\n",
       "      <td>0.000000e+00</td>\n",
       "    </tr>\n",
       "    <tr>\n",
       "      <th>up</th>\n",
       "      <td>1.000000e+100</td>\n",
       "    </tr>\n",
       "    <tr>\n",
       "      <th rowspan=\"4\" valign=\"top\">NaturalgasCCGTwithCCSnewOT</th>\n",
       "      <th>level</th>\n",
       "      <td>0.000000e+00</td>\n",
       "    </tr>\n",
       "    <tr>\n",
       "      <th>lo</th>\n",
       "      <td>0.000000e+00</td>\n",
       "    </tr>\n",
       "    <tr>\n",
       "      <th>marginal</th>\n",
       "      <td>0.000000e+00</td>\n",
       "    </tr>\n",
       "    <tr>\n",
       "      <th>up</th>\n",
       "      <td>1.000000e+100</td>\n",
       "    </tr>\n",
       "    <tr>\n",
       "      <th rowspan=\"4\" valign=\"top\">NaturalgasOCGTnew</th>\n",
       "      <th>level</th>\n",
       "      <td>0.000000e+00</td>\n",
       "    </tr>\n",
       "    <tr>\n",
       "      <th>lo</th>\n",
       "      <td>0.000000e+00</td>\n",
       "    </tr>\n",
       "    <tr>\n",
       "      <th>marginal</th>\n",
       "      <td>0.000000e+00</td>\n",
       "    </tr>\n",
       "    <tr>\n",
       "      <th>up</th>\n",
       "      <td>1.000000e+100</td>\n",
       "    </tr>\n",
       "    <tr>\n",
       "      <th rowspan=\"4\" valign=\"top\">Solar</th>\n",
       "      <th>level</th>\n",
       "      <td>2.310850e+03</td>\n",
       "    </tr>\n",
       "    <tr>\n",
       "      <th>lo</th>\n",
       "      <td>0.000000e+00</td>\n",
       "    </tr>\n",
       "    <tr>\n",
       "      <th>marginal</th>\n",
       "      <td>0.000000e+00</td>\n",
       "    </tr>\n",
       "    <tr>\n",
       "      <th>up</th>\n",
       "      <td>1.000000e+100</td>\n",
       "    </tr>\n",
       "    <tr>\n",
       "      <th rowspan=\"4\" valign=\"top\">Windoffshore</th>\n",
       "      <th>level</th>\n",
       "      <td>6.255290e+02</td>\n",
       "    </tr>\n",
       "    <tr>\n",
       "      <th>lo</th>\n",
       "      <td>0.000000e+00</td>\n",
       "    </tr>\n",
       "    <tr>\n",
       "      <th>marginal</th>\n",
       "      <td>0.000000e+00</td>\n",
       "    </tr>\n",
       "    <tr>\n",
       "      <th>up</th>\n",
       "      <td>1.000000e+100</td>\n",
       "    </tr>\n",
       "    <tr>\n",
       "      <th rowspan=\"4\" valign=\"top\">Windonshore</th>\n",
       "      <th>level</th>\n",
       "      <td>1.193874e+03</td>\n",
       "    </tr>\n",
       "    <tr>\n",
       "      <th>lo</th>\n",
       "      <td>0.000000e+00</td>\n",
       "    </tr>\n",
       "    <tr>\n",
       "      <th>marginal</th>\n",
       "      <td>0.000000e+00</td>\n",
       "    </tr>\n",
       "    <tr>\n",
       "      <th>up</th>\n",
       "      <td>1.000000e+100</td>\n",
       "    </tr>\n",
       "  </tbody>\n",
       "</table>\n",
       "</div>"
      ],
      "text/plain": [
       "                                                      gencaptot\n",
       "year Spatial technology                 level_1                \n",
       "2010 region  HydroRes                   level      9.400671e+01\n",
       "                                        lo         0.000000e+00\n",
       "                                        marginal   0.000000e+00\n",
       "                                        up        1.000000e+100\n",
       "             HydroRoR                   level      6.682853e+01\n",
       "                                        lo         0.000000e+00\n",
       "                                        marginal   0.000000e+00\n",
       "                                        up        1.000000e+100\n",
       "             NaturalgasCCGTwithCCSnewOT level      0.000000e+00\n",
       "                                        lo         0.000000e+00\n",
       "                                        marginal   0.000000e+00\n",
       "                                        up        1.000000e+100\n",
       "             NaturalgasOCGTnew          level      0.000000e+00\n",
       "                                        lo         0.000000e+00\n",
       "                                        marginal   0.000000e+00\n",
       "                                        up        1.000000e+100\n",
       "             Solar                      level      2.310850e+03\n",
       "                                        lo         0.000000e+00\n",
       "                                        marginal   0.000000e+00\n",
       "                                        up        1.000000e+100\n",
       "             Windoffshore               level      6.255290e+02\n",
       "                                        lo         0.000000e+00\n",
       "                                        marginal   0.000000e+00\n",
       "                                        up        1.000000e+100\n",
       "             Windonshore                level      1.193874e+03\n",
       "                                        lo         0.000000e+00\n",
       "                                        marginal   0.000000e+00\n",
       "                                        up        1.000000e+100"
      ]
     },
     "execution_count": 154,
     "metadata": {},
     "output_type": "execute_result"
    }
   ],
   "source": [
    "# Capacity\n",
    "caps = makenice(sqlite_list, \"cap\")\n",
    "caps"
   ]
  },
  {
   "cell_type": "code",
   "execution_count": 160,
   "metadata": {},
   "outputs": [
    {
     "data": {
      "text/html": [
       "<div>\n",
       "<style scoped>\n",
       "    .dataframe tbody tr th:only-of-type {\n",
       "        vertical-align: middle;\n",
       "    }\n",
       "\n",
       "    .dataframe tbody tr th {\n",
       "        vertical-align: top;\n",
       "    }\n",
       "\n",
       "    .dataframe thead th {\n",
       "        text-align: right;\n",
       "    }\n",
       "</style>\n",
       "<table border=\"1\" class=\"dataframe\">\n",
       "  <thead>\n",
       "    <tr style=\"text-align: right;\">\n",
       "      <th></th>\n",
       "      <th>technology</th>\n",
       "      <th>Solar</th>\n",
       "      <th>Windoffshore</th>\n",
       "      <th>OnWind</th>\n",
       "    </tr>\n",
       "    <tr>\n",
       "      <th>year</th>\n",
       "      <th>Spatial</th>\n",
       "      <th></th>\n",
       "      <th></th>\n",
       "      <th></th>\n",
       "    </tr>\n",
       "  </thead>\n",
       "  <tbody>\n",
       "    <tr>\n",
       "      <th>2010</th>\n",
       "      <th>region</th>\n",
       "      <td>2310.850277</td>\n",
       "      <td>625.529043</td>\n",
       "      <td>1193.873924</td>\n",
       "    </tr>\n",
       "  </tbody>\n",
       "</table>\n",
       "</div>"
      ],
      "text/plain": [
       "technology          Solar  Windoffshore       OnWind\n",
       "year Spatial                                        \n",
       "2010 region   2310.850277    625.529043  1193.873924"
      ]
     },
     "execution_count": 160,
     "metadata": {},
     "output_type": "execute_result"
    }
   ],
   "source": [
    "(\n",
    "    caps.query(\n",
    "        \"level_1 == 'level'\"\n",
    "    )\n",
    "    .droplevel(\"level_1\")\n",
    "    .unstack()\n",
    "    .loc[:, \"gencaptot\"]\n",
    "    .loc[:, [\"Solar\", \"Windoffshore\", \"Windonshore\"]]\n",
    "    .sort_index()\n",
    "    .rename(\n",
    "        columns={\n",
    "            \"NaturalgasCCGTwithCCSnewOT\": \"GasCCS\",\n",
    "            \"NaturalgasOCGTnew\": \"Gas\",\n",
    "            \"Windonshore\": \"OnWind\",\n",
    "        },\n",
    "    )\n",
    "    .query(\"year == '2010'\")   \n",
    ")"
   ]
  },
  {
   "cell_type": "code",
   "execution_count": 162,
   "metadata": {},
   "outputs": [
    {
     "name": "stderr",
     "output_type": "stream",
     "text": [
      "100%|██████████| 1/1 [00:00<00:00, 65.36it/s]\n"
     ]
    },
    {
     "data": {
      "text/html": [
       "<div>\n",
       "<style scoped>\n",
       "    .dataframe tbody tr th:only-of-type {\n",
       "        vertical-align: middle;\n",
       "    }\n",
       "\n",
       "    .dataframe tbody tr th {\n",
       "        vertical-align: top;\n",
       "    }\n",
       "\n",
       "    .dataframe thead th {\n",
       "        text-align: right;\n",
       "    }\n",
       "</style>\n",
       "<table border=\"1\" class=\"dataframe\">\n",
       "  <thead>\n",
       "    <tr style=\"text-align: right;\">\n",
       "      <th></th>\n",
       "      <th></th>\n",
       "      <th></th>\n",
       "      <th></th>\n",
       "      <th>gencapnew</th>\n",
       "    </tr>\n",
       "    <tr>\n",
       "      <th>year</th>\n",
       "      <th>Spatial</th>\n",
       "      <th>technology</th>\n",
       "      <th>level_1</th>\n",
       "      <th></th>\n",
       "    </tr>\n",
       "  </thead>\n",
       "  <tbody>\n",
       "    <tr>\n",
       "      <th rowspan=\"28\" valign=\"top\">2010</th>\n",
       "      <th rowspan=\"28\" valign=\"top\">region</th>\n",
       "      <th rowspan=\"4\" valign=\"top\">HydroRes</th>\n",
       "      <th>level</th>\n",
       "      <td>0.000000e+00</td>\n",
       "    </tr>\n",
       "    <tr>\n",
       "      <th>lo</th>\n",
       "      <td>0.000000e+00</td>\n",
       "    </tr>\n",
       "    <tr>\n",
       "      <th>marginal</th>\n",
       "      <td>0.000000e+00</td>\n",
       "    </tr>\n",
       "    <tr>\n",
       "      <th>up</th>\n",
       "      <td>1.000000e+100</td>\n",
       "    </tr>\n",
       "    <tr>\n",
       "      <th rowspan=\"4\" valign=\"top\">HydroRoR</th>\n",
       "      <th>level</th>\n",
       "      <td>0.000000e+00</td>\n",
       "    </tr>\n",
       "    <tr>\n",
       "      <th>lo</th>\n",
       "      <td>0.000000e+00</td>\n",
       "    </tr>\n",
       "    <tr>\n",
       "      <th>marginal</th>\n",
       "      <td>0.000000e+00</td>\n",
       "    </tr>\n",
       "    <tr>\n",
       "      <th>up</th>\n",
       "      <td>1.000000e+100</td>\n",
       "    </tr>\n",
       "    <tr>\n",
       "      <th rowspan=\"4\" valign=\"top\">NaturalgasCCGTwithCCSnewOT</th>\n",
       "      <th>level</th>\n",
       "      <td>0.000000e+00</td>\n",
       "    </tr>\n",
       "    <tr>\n",
       "      <th>lo</th>\n",
       "      <td>0.000000e+00</td>\n",
       "    </tr>\n",
       "    <tr>\n",
       "      <th>marginal</th>\n",
       "      <td>0.000000e+00</td>\n",
       "    </tr>\n",
       "    <tr>\n",
       "      <th>up</th>\n",
       "      <td>1.000000e+100</td>\n",
       "    </tr>\n",
       "    <tr>\n",
       "      <th rowspan=\"4\" valign=\"top\">NaturalgasOCGTnew</th>\n",
       "      <th>level</th>\n",
       "      <td>0.000000e+00</td>\n",
       "    </tr>\n",
       "    <tr>\n",
       "      <th>lo</th>\n",
       "      <td>0.000000e+00</td>\n",
       "    </tr>\n",
       "    <tr>\n",
       "      <th>marginal</th>\n",
       "      <td>0.000000e+00</td>\n",
       "    </tr>\n",
       "    <tr>\n",
       "      <th>up</th>\n",
       "      <td>1.000000e+100</td>\n",
       "    </tr>\n",
       "    <tr>\n",
       "      <th rowspan=\"4\" valign=\"top\">Solar</th>\n",
       "      <th>level</th>\n",
       "      <td>2.310850e+03</td>\n",
       "    </tr>\n",
       "    <tr>\n",
       "      <th>lo</th>\n",
       "      <td>0.000000e+00</td>\n",
       "    </tr>\n",
       "    <tr>\n",
       "      <th>marginal</th>\n",
       "      <td>0.000000e+00</td>\n",
       "    </tr>\n",
       "    <tr>\n",
       "      <th>up</th>\n",
       "      <td>1.000000e+100</td>\n",
       "    </tr>\n",
       "    <tr>\n",
       "      <th rowspan=\"4\" valign=\"top\">Windoffshore</th>\n",
       "      <th>level</th>\n",
       "      <td>6.255290e+02</td>\n",
       "    </tr>\n",
       "    <tr>\n",
       "      <th>lo</th>\n",
       "      <td>0.000000e+00</td>\n",
       "    </tr>\n",
       "    <tr>\n",
       "      <th>marginal</th>\n",
       "      <td>0.000000e+00</td>\n",
       "    </tr>\n",
       "    <tr>\n",
       "      <th>up</th>\n",
       "      <td>1.000000e+100</td>\n",
       "    </tr>\n",
       "    <tr>\n",
       "      <th rowspan=\"4\" valign=\"top\">Windonshore</th>\n",
       "      <th>level</th>\n",
       "      <td>1.193874e+03</td>\n",
       "    </tr>\n",
       "    <tr>\n",
       "      <th>lo</th>\n",
       "      <td>0.000000e+00</td>\n",
       "    </tr>\n",
       "    <tr>\n",
       "      <th>marginal</th>\n",
       "      <td>0.000000e+00</td>\n",
       "    </tr>\n",
       "    <tr>\n",
       "      <th>up</th>\n",
       "      <td>1.000000e+100</td>\n",
       "    </tr>\n",
       "  </tbody>\n",
       "</table>\n",
       "</div>"
      ],
      "text/plain": [
       "                                                      gencapnew\n",
       "year Spatial technology                 level_1                \n",
       "2010 region  HydroRes                   level      0.000000e+00\n",
       "                                        lo         0.000000e+00\n",
       "                                        marginal   0.000000e+00\n",
       "                                        up        1.000000e+100\n",
       "             HydroRoR                   level      0.000000e+00\n",
       "                                        lo         0.000000e+00\n",
       "                                        marginal   0.000000e+00\n",
       "                                        up        1.000000e+100\n",
       "             NaturalgasCCGTwithCCSnewOT level      0.000000e+00\n",
       "                                        lo         0.000000e+00\n",
       "                                        marginal   0.000000e+00\n",
       "                                        up        1.000000e+100\n",
       "             NaturalgasOCGTnew          level      0.000000e+00\n",
       "                                        lo         0.000000e+00\n",
       "                                        marginal   0.000000e+00\n",
       "                                        up        1.000000e+100\n",
       "             Solar                      level      2.310850e+03\n",
       "                                        lo         0.000000e+00\n",
       "                                        marginal   0.000000e+00\n",
       "                                        up        1.000000e+100\n",
       "             Windoffshore               level      6.255290e+02\n",
       "                                        lo         0.000000e+00\n",
       "                                        marginal   0.000000e+00\n",
       "                                        up        1.000000e+100\n",
       "             Windonshore                level      1.193874e+03\n",
       "                                        lo         0.000000e+00\n",
       "                                        marginal   0.000000e+00\n",
       "                                        up        1.000000e+100"
      ]
     },
     "execution_count": 162,
     "metadata": {},
     "output_type": "execute_result"
    }
   ],
   "source": [
    "#New capacity\n",
    "newcaps = makenice(sqlite_list, \"newcap\")\n",
    "newcaps"
   ]
  },
  {
   "cell_type": "code",
   "execution_count": 164,
   "metadata": {},
   "outputs": [
    {
     "data": {
      "text/plain": [
       "name\n",
       "2010_region       0.000000\n",
       "2010_region       0.000000\n",
       "2010_region       0.000000\n",
       "2010_region       0.000000\n",
       "2010_region     625.529043\n",
       "2010_region    1193.873924\n",
       "2010_region    2310.850277\n",
       "Name: gencapnew, dtype: float64"
      ]
     },
     "execution_count": 164,
     "metadata": {},
     "output_type": "execute_result"
    }
   ],
   "source": [
    "(\n",
    "    newcaps.reset_index()\n",
    "    .assign(\n",
    "        name=lambda df: df.year.astype(str)\n",
    "        + \"_\"\n",
    "        + df.Spatial\n",
    "    )\n",
    "    .query('level_1 == \"level\"')\n",
    "    .drop(columns=[\"level_1\"])\n",
    "    .set_index(\"name\")\n",
    "    .sort_values(by=\"gencapnew\")\n",
    "    .loc[:, \"gencapnew\"]\n",
    "    # .plot.barh(figsize=(10, 15))\n",
    ")"
   ]
  },
  {
   "cell_type": "code",
   "execution_count": 166,
   "metadata": {},
   "outputs": [
    {
     "name": "stderr",
     "output_type": "stream",
     "text": [
      "100%|██████████| 1/1 [00:00<00:00, 49.98it/s]\n"
     ]
    }
   ],
   "source": [
    "#Storage energy capacity\n",
    "e_cap_dfs = []\n",
    "for scenario in tqdm (sqlite_list):\n",
    "    if pathlib.Path(scenario).is_file():\n",
    "        con = sqlite3.connect(scenario)\n",
    "        e_cap_dfs.append(\n",
    "            pd.read_sql_query(\"SELECT * from var_tot_store_ecap\", con)\n",
    "            # .set_index(\"g\")\n",
    "            # .rename(\n",
    "            #    {\n",
    "            #        \"NaturalgasCCGTwithCCSnewOT\": \"GasCCS\",\n",
    "            #        \"NaturalgasOCGTnew\": \"Gas\",\n",
    "            #        \"Windonshore\": \"OnWind\",\n",
    "            #    },\n",
    "            #    axis=\"index\",\n",
    "            # )\n",
    "            # .loc[:, [\"level\"]]\n",
    "            # .rename_axis(index={\"g\": \"Technology\"})\n",
    "            # .rename(columns={\"level\": \"installed_capacity_GW\"})\n",
    "            # .assign(scenario=scenario[64:-11])\n",
    "            # .reset_index()\n",
    "            # .set_index([\"scenario\", \"Technology\"])\n",
    "            # .sort_index()            \n",
    "        )\n",
    "        con.close()\n",
    "e_cap2 = pd.concat(e_cap_dfs)\n",
    "del e_cap_dfs"
   ]
  },
  {
   "cell_type": "code",
   "execution_count": 167,
   "metadata": {},
   "outputs": [
    {
     "data": {
      "text/html": [
       "<div>\n",
       "<style scoped>\n",
       "    .dataframe tbody tr th:only-of-type {\n",
       "        vertical-align: middle;\n",
       "    }\n",
       "\n",
       "    .dataframe tbody tr th {\n",
       "        vertical-align: top;\n",
       "    }\n",
       "\n",
       "    .dataframe thead th {\n",
       "        text-align: right;\n",
       "    }\n",
       "</style>\n",
       "<table border=\"1\" class=\"dataframe\">\n",
       "  <thead>\n",
       "    <tr style=\"text-align: right;\">\n",
       "      <th></th>\n",
       "      <th>s</th>\n",
       "      <th>level</th>\n",
       "      <th>lo</th>\n",
       "      <th>up</th>\n",
       "      <th>marginal</th>\n",
       "    </tr>\n",
       "  </thead>\n",
       "  <tbody>\n",
       "    <tr>\n",
       "      <th>0</th>\n",
       "      <td>PumpedHydro</td>\n",
       "      <td>1312.869000</td>\n",
       "      <td>0.0</td>\n",
       "      <td>1.000000e+100</td>\n",
       "      <td>0.0</td>\n",
       "    </tr>\n",
       "    <tr>\n",
       "      <th>1</th>\n",
       "      <td>Li-ion-8</td>\n",
       "      <td>5688.945893</td>\n",
       "      <td>0.0</td>\n",
       "      <td>1.000000e+100</td>\n",
       "      <td>0.0</td>\n",
       "    </tr>\n",
       "  </tbody>\n",
       "</table>\n",
       "</div>"
      ],
      "text/plain": [
       "             s        level   lo             up  marginal\n",
       "0  PumpedHydro  1312.869000  0.0  1.000000e+100       0.0\n",
       "1     Li-ion-8  5688.945893  0.0  1.000000e+100       0.0"
      ]
     },
     "execution_count": 167,
     "metadata": {},
     "output_type": "execute_result"
    }
   ],
   "source": [
    "e_cap2"
   ]
  },
  {
   "cell_type": "code",
   "execution_count": 185,
   "metadata": {},
   "outputs": [
    {
     "data": {
      "text/html": [
       "<div>\n",
       "<style scoped>\n",
       "    .dataframe tbody tr th:only-of-type {\n",
       "        vertical-align: middle;\n",
       "    }\n",
       "\n",
       "    .dataframe tbody tr th {\n",
       "        vertical-align: top;\n",
       "    }\n",
       "\n",
       "    .dataframe thead th {\n",
       "        text-align: right;\n",
       "    }\n",
       "</style>\n",
       "<table border=\"1\" class=\"dataframe\">\n",
       "  <thead>\n",
       "    <tr style=\"text-align: right;\">\n",
       "      <th></th>\n",
       "      <th></th>\n",
       "      <th>installed_capacity_GW</th>\n",
       "    </tr>\n",
       "    <tr>\n",
       "      <th>scenario</th>\n",
       "      <th>Technology</th>\n",
       "      <th></th>\n",
       "    </tr>\n",
       "  </thead>\n",
       "  <tbody>\n",
       "    <tr>\n",
       "      <th rowspan=\"7\" valign=\"top\">region</th>\n",
       "      <th>Gas</th>\n",
       "      <td>0.000000</td>\n",
       "    </tr>\n",
       "    <tr>\n",
       "      <th>GasCCS</th>\n",
       "      <td>0.000000</td>\n",
       "    </tr>\n",
       "    <tr>\n",
       "      <th>HydroRes</th>\n",
       "      <td>94.006710</td>\n",
       "    </tr>\n",
       "    <tr>\n",
       "      <th>HydroRoR</th>\n",
       "      <td>66.828530</td>\n",
       "    </tr>\n",
       "    <tr>\n",
       "      <th>OnWind</th>\n",
       "      <td>1193.873924</td>\n",
       "    </tr>\n",
       "    <tr>\n",
       "      <th>Solar</th>\n",
       "      <td>2310.850277</td>\n",
       "    </tr>\n",
       "    <tr>\n",
       "      <th>Windoffshore</th>\n",
       "      <td>625.529043</td>\n",
       "    </tr>\n",
       "  </tbody>\n",
       "</table>\n",
       "</div>"
      ],
      "text/plain": [
       "                       installed_capacity_GW\n",
       "scenario Technology                         \n",
       "region   Gas                        0.000000\n",
       "         GasCCS                     0.000000\n",
       "         HydroRes                  94.006710\n",
       "         HydroRoR                  66.828530\n",
       "         OnWind                  1193.873924\n",
       "         Solar                   2310.850277\n",
       "         Windoffshore             625.529043"
      ]
     },
     "execution_count": 185,
     "metadata": {},
     "output_type": "execute_result"
    }
   ],
   "source": [
    "# Storage power capacity\n",
    "p_cap_dfs = []\n",
    "for scenario in sqlite_list:\n",
    "    if pathlib.Path(scenario).is_file():\n",
    "        con = sqlite3.connect(scenario)\n",
    "        p_cap_dfs.append(\n",
    "            pd.read_sql_query(\"SELECT * from var_tot_pcap\", con)\n",
    "            .set_index(\"g\")\n",
    "            .rename(\n",
    "                {\n",
    "                    \"NaturalgasCCGTwithCCSnewOT\": \"GasCCS\",\n",
    "                    \"NaturalgasOCGTnew\": \"Gas\",\n",
    "                    \"Windonshore\": \"OnWind\",\n",
    "                },\n",
    "                axis=\"index\",\n",
    "            )\n",
    "            .loc[:, [\"level\"]]\n",
    "            .rename_axis(index={\"g\": \"Technology\"})\n",
    "            .rename(columns={\"level\": \"installed_capacity_GW\"})\n",
    "            .assign(scenario=str(scenario)[51: -11])\n",
    "            .reset_index()\n",
    "            .set_index([\"scenario\", \"Technology\"])\n",
    "            .sort_index()\n",
    "        )\n",
    "        con.close()\n",
    "p_cap2 = pd.concat(p_cap_dfs)\n",
    "del p_cap_dfs\n",
    "p_cap2"
   ]
  },
  {
   "cell_type": "code",
   "execution_count": 191,
   "metadata": {},
   "outputs": [
    {
     "data": {
      "text/plain": [
       "Index(['Gas', 'GasCCS', 'HydroRes', 'HydroRoR', 'OnWind', 'Solar',\n",
       "       'Windoffshore'],\n",
       "      dtype='object', name='Technology')"
      ]
     },
     "execution_count": 191,
     "metadata": {},
     "output_type": "execute_result"
    }
   ],
   "source": [
    "p_cap2.index.get_level_values(1).unique()"
   ]
  },
  {
   "cell_type": "code",
   "execution_count": 205,
   "metadata": {},
   "outputs": [
    {
     "data": {
      "text/plain": [
       "<Axes: title={'center': 'EU installed generation capacity 2010'}, xlabel='GW', ylabel='Scenario'>"
      ]
     },
     "execution_count": 205,
     "metadata": {},
     "output_type": "execute_result"
    },
    {
     "data": {
      "image/png": "[encoded data removed]",
      "text/plain": [
       "<Figure size 1000x300 with 1 Axes>"
      ]
     },
     "metadata": {},
     "output_type": "display_data"
    }
   ],
   "source": [
    "scale = 1\n",
    "(\n",
    "    p_cap2.reindex(\n",
    "        p_cap2.groupby([\"scenario\"]).sum().sort_index()\n",
    "        .index.to_list(),\n",
    "        level=0,\n",
    "    )\n",
    "    .unstack()\n",
    "    .loc[:, \"installed_capacity_GW\"]\n",
    "    .plot.barh(\n",
    "        stacked=True,\n",
    "        title=\"EU installed generation capacity 2010\",\n",
    "        ylabel=\"Scenario\",\n",
    "        xlabel=\"GW\",\n",
    "        figsize=(10 / scale, 3 / scale),\n",
    "        color=colordict,\n",
    "    )    \n",
    ")\n",
    "# plt.savefig(\"output.svg\", bbox_inches=\"tight\")\n",
    "# fig = plot.get_figure()\n",
    "# fig.savefig(\"output.svg\")"
   ]
  },
  {
   "cell_type": "code",
   "execution_count": 206,
   "metadata": {},
   "outputs": [
    {
     "data": {
      "text/html": [
       "<div>\n",
       "<style scoped>\n",
       "    .dataframe tbody tr th:only-of-type {\n",
       "        vertical-align: middle;\n",
       "    }\n",
       "\n",
       "    .dataframe tbody tr th {\n",
       "        vertical-align: top;\n",
       "    }\n",
       "\n",
       "    .dataframe thead th {\n",
       "        text-align: right;\n",
       "    }\n",
       "</style>\n",
       "<table border=\"1\" class=\"dataframe\">\n",
       "  <thead>\n",
       "    <tr style=\"text-align: right;\">\n",
       "      <th>Technology</th>\n",
       "      <th>Gas</th>\n",
       "      <th>GasCCS</th>\n",
       "      <th>HydroRes</th>\n",
       "      <th>HydroRoR</th>\n",
       "      <th>OnWind</th>\n",
       "      <th>Solar</th>\n",
       "      <th>Windoffshore</th>\n",
       "    </tr>\n",
       "    <tr>\n",
       "      <th>scenario</th>\n",
       "      <th></th>\n",
       "      <th></th>\n",
       "      <th></th>\n",
       "      <th></th>\n",
       "      <th></th>\n",
       "      <th></th>\n",
       "      <th></th>\n",
       "    </tr>\n",
       "  </thead>\n",
       "  <tbody>\n",
       "    <tr>\n",
       "      <th>region</th>\n",
       "      <td>0.0</td>\n",
       "      <td>0.0</td>\n",
       "      <td>94.00671</td>\n",
       "      <td>66.82853</td>\n",
       "      <td>1193.873924</td>\n",
       "      <td>2310.850277</td>\n",
       "      <td>625.529043</td>\n",
       "    </tr>\n",
       "  </tbody>\n",
       "</table>\n",
       "</div>"
      ],
      "text/plain": [
       "Technology  Gas  GasCCS  HydroRes  HydroRoR       OnWind        Solar  \\\n",
       "scenario                                                                \n",
       "region      0.0     0.0  94.00671  66.82853  1193.873924  2310.850277   \n",
       "\n",
       "Technology  Windoffshore  \n",
       "scenario                  \n",
       "region        625.529043  "
      ]
     },
     "execution_count": 206,
     "metadata": {},
     "output_type": "execute_result"
    }
   ],
   "source": [
    "(p_cap2.unstack().loc[:, \"installed_capacity_GW\"])"
   ]
  },
  {
   "cell_type": "code",
   "execution_count": 209,
   "metadata": {},
   "outputs": [
    {
     "data": {
      "text/plain": [
       "<Axes: title={'center': 'EU installed generation capacity (without hydro) 2010'}, xlabel='GW', ylabel='Scenario'>"
      ]
     },
     "execution_count": 209,
     "metadata": {},
     "output_type": "execute_result"
    },
    {
     "data": {
      "image/png": "[encoded data removed]",
      "text/plain": [
       "<Figure size 400x500 with 1 Axes>"
      ]
     },
     "metadata": {},
     "output_type": "display_data"
    }
   ],
   "source": [
    "scale = 1\n",
    "(\n",
    "    p_cap2\n",
    "    # .reindex(\n",
    "    #    p_cap2.groupby([\"scenario\"])\n",
    "    #    .sum()\n",
    "    #    #.sort_index()\n",
    "    #    .sort_values(\"installed_capacity_GW\")\n",
    "    #    .index.to_list(),\n",
    "    #    level=0,\n",
    "    # )\n",
    "    .unstack()\n",
    "    .loc[:, \"installed_capacity_GW\"]\n",
    "    .loc[:, [\"Gas\", \"GasCCS\", \"OnWind\", \"Solar\", \"Windoffshore\"]]\n",
    "    .plot.bar(\n",
    "        stacked=True,\n",
    "        title=\"EU installed generation capacity (without hydro) 2010\",\n",
    "        ylabel=\"Scenario\",\n",
    "        xlabel=\"GW\",\n",
    "        figsize=(4 / scale, 5 / scale),\n",
    "        color=colordict,\n",
    "    )\n",
    ")"
   ]
  },
  {
   "cell_type": "code",
   "execution_count": null,
   "metadata": {},
   "outputs": [],
   "source": [
    "# How much new transmission lines are there?"
   ]
  },
  {
   "cell_type": "code",
   "execution_count": 210,
   "metadata": {},
   "outputs": [
    {
     "name": "stderr",
     "output_type": "stream",
     "text": [
      "100%|██████████| 1/1 [00:02<00:00,  2.30s/it]\n"
     ]
    }
   ],
   "source": [
    "# capacity factors\n",
    "capfacs = makenice(sqlite_list, \"vre_gen\")"
   ]
  },
  {
   "cell_type": "code",
   "execution_count": 211,
   "metadata": {},
   "outputs": [
    {
     "data": {
      "text/html": [
       "<div>\n",
       "<style scoped>\n",
       "    .dataframe tbody tr th:only-of-type {\n",
       "        vertical-align: middle;\n",
       "    }\n",
       "\n",
       "    .dataframe tbody tr th {\n",
       "        vertical-align: top;\n",
       "    }\n",
       "\n",
       "    .dataframe thead th {\n",
       "        text-align: right;\n",
       "    }\n",
       "</style>\n",
       "<table border=\"1\" class=\"dataframe\">\n",
       "  <thead>\n",
       "    <tr style=\"text-align: right;\">\n",
       "      <th></th>\n",
       "      <th></th>\n",
       "      <th></th>\n",
       "      <th></th>\n",
       "      <th></th>\n",
       "      <th>value</th>\n",
       "    </tr>\n",
       "    <tr>\n",
       "      <th>year</th>\n",
       "      <th>Spatial</th>\n",
       "      <th>hour</th>\n",
       "      <th>technology</th>\n",
       "      <th>region</th>\n",
       "      <th></th>\n",
       "    </tr>\n",
       "  </thead>\n",
       "  <tbody>\n",
       "    <tr>\n",
       "      <th rowspan=\"11\" valign=\"top\">2010</th>\n",
       "      <th rowspan=\"11\" valign=\"top\">region</th>\n",
       "      <th rowspan=\"5\" valign=\"top\">0</th>\n",
       "      <th rowspan=\"5\" valign=\"top\">HydroRoR</th>\n",
       "      <th>AT</th>\n",
       "      <td>0.23</td>\n",
       "    </tr>\n",
       "    <tr>\n",
       "      <th>BE</th>\n",
       "      <td>0.30</td>\n",
       "    </tr>\n",
       "    <tr>\n",
       "      <th>CH</th>\n",
       "      <td>0.12</td>\n",
       "    </tr>\n",
       "    <tr>\n",
       "      <th>CZ</th>\n",
       "      <td>0.27</td>\n",
       "    </tr>\n",
       "    <tr>\n",
       "      <th>DE</th>\n",
       "      <td>0.37</td>\n",
       "    </tr>\n",
       "    <tr>\n",
       "      <th>...</th>\n",
       "      <th>...</th>\n",
       "      <th>...</th>\n",
       "      <td>...</td>\n",
       "    </tr>\n",
       "    <tr>\n",
       "      <th rowspan=\"5\" valign=\"top\">999</th>\n",
       "      <th rowspan=\"5\" valign=\"top\">Windonshore</th>\n",
       "      <th>RO</th>\n",
       "      <td>0.39</td>\n",
       "    </tr>\n",
       "    <tr>\n",
       "      <th>SE</th>\n",
       "      <td>0.09</td>\n",
       "    </tr>\n",
       "    <tr>\n",
       "      <th>SI</th>\n",
       "      <td>0.00</td>\n",
       "    </tr>\n",
       "    <tr>\n",
       "      <th>SK</th>\n",
       "      <td>0.09</td>\n",
       "    </tr>\n",
       "    <tr>\n",
       "      <th>UK</th>\n",
       "      <td>0.31</td>\n",
       "    </tr>\n",
       "  </tbody>\n",
       "</table>\n",
       "<p>954840 rows × 1 columns</p>\n",
       "</div>"
      ],
      "text/plain": [
       "                                      value\n",
       "year Spatial hour technology  region       \n",
       "2010 region  0    HydroRoR    AT       0.23\n",
       "                              BE       0.30\n",
       "                              CH       0.12\n",
       "                              CZ       0.27\n",
       "                              DE       0.37\n",
       "...                                     ...\n",
       "             999  Windonshore RO       0.39\n",
       "                              SE       0.09\n",
       "                              SI       0.00\n",
       "                              SK       0.09\n",
       "                              UK       0.31\n",
       "\n",
       "[954840 rows x 1 columns]"
      ]
     },
     "execution_count": 211,
     "metadata": {},
     "output_type": "execute_result"
    }
   ],
   "source": [
    "capfacs"
   ]
  },
  {
   "cell_type": "code",
   "execution_count": 215,
   "metadata": {},
   "outputs": [
    {
     "data": {
      "text/html": [
       "<div>\n",
       "<style scoped>\n",
       "    .dataframe tbody tr th:only-of-type {\n",
       "        vertical-align: middle;\n",
       "    }\n",
       "\n",
       "    .dataframe tbody tr th {\n",
       "        vertical-align: top;\n",
       "    }\n",
       "\n",
       "    .dataframe thead th {\n",
       "        text-align: right;\n",
       "    }\n",
       "</style>\n",
       "<table border=\"1\" class=\"dataframe\">\n",
       "  <thead>\n",
       "    <tr style=\"text-align: right;\">\n",
       "      <th></th>\n",
       "      <th></th>\n",
       "      <th></th>\n",
       "      <th></th>\n",
       "      <th>value</th>\n",
       "    </tr>\n",
       "    <tr>\n",
       "      <th>year</th>\n",
       "      <th>Spatial</th>\n",
       "      <th>technology</th>\n",
       "      <th>region</th>\n",
       "      <th></th>\n",
       "    </tr>\n",
       "  </thead>\n",
       "  <tbody>\n",
       "    <tr>\n",
       "      <th rowspan=\"11\" valign=\"top\">2010</th>\n",
       "      <th rowspan=\"11\" valign=\"top\">region</th>\n",
       "      <th rowspan=\"5\" valign=\"top\">HydroRoR</th>\n",
       "      <th>AT</th>\n",
       "      <td>0.496837</td>\n",
       "    </tr>\n",
       "    <tr>\n",
       "      <th>BE</th>\n",
       "      <td>0.308002</td>\n",
       "    </tr>\n",
       "    <tr>\n",
       "      <th>CH</th>\n",
       "      <td>0.317070</td>\n",
       "    </tr>\n",
       "    <tr>\n",
       "      <th>CZ</th>\n",
       "      <td>0.289105</td>\n",
       "    </tr>\n",
       "    <tr>\n",
       "      <th>DE</th>\n",
       "      <td>0.429287</td>\n",
       "    </tr>\n",
       "    <tr>\n",
       "      <th>...</th>\n",
       "      <th>...</th>\n",
       "      <td>...</td>\n",
       "    </tr>\n",
       "    <tr>\n",
       "      <th rowspan=\"5\" valign=\"top\">Windonshore</th>\n",
       "      <th>RO</th>\n",
       "      <td>0.182642</td>\n",
       "    </tr>\n",
       "    <tr>\n",
       "      <th>SE</th>\n",
       "      <td>0.196650</td>\n",
       "    </tr>\n",
       "    <tr>\n",
       "      <th>SI</th>\n",
       "      <td>0.000000</td>\n",
       "    </tr>\n",
       "    <tr>\n",
       "      <th>SK</th>\n",
       "      <td>0.204975</td>\n",
       "    </tr>\n",
       "    <tr>\n",
       "      <th>UK</th>\n",
       "      <td>0.281906</td>\n",
       "    </tr>\n",
       "  </tbody>\n",
       "</table>\n",
       "<p>109 rows × 1 columns</p>\n",
       "</div>"
      ],
      "text/plain": [
       "                                    value\n",
       "year Spatial technology  region          \n",
       "2010 region  HydroRoR    AT      0.496837\n",
       "                         BE      0.308002\n",
       "                         CH      0.317070\n",
       "                         CZ      0.289105\n",
       "                         DE      0.429287\n",
       "...                                   ...\n",
       "             Windonshore RO      0.182642\n",
       "                         SE      0.196650\n",
       "                         SI      0.000000\n",
       "                         SK      0.204975\n",
       "                         UK      0.281906\n",
       "\n",
       "[109 rows x 1 columns]"
      ]
     },
     "execution_count": 215,
     "metadata": {},
     "output_type": "execute_result"
    }
   ],
   "source": [
    "meancapfacs = capfacs.groupby(\n",
    "    [\n",
    "        \"year\",\n",
    "        \"Spatial\",\n",
    "        \"technology\",\n",
    "        \"region\",\n",
    "    ]\n",
    ").mean()\n",
    "meancapfacs"
   ]
  },
  {
   "cell_type": "code",
   "execution_count": 217,
   "metadata": {},
   "outputs": [
    {
     "data": {
      "text/html": [
       "<div>\n",
       "<style scoped>\n",
       "    .dataframe tbody tr th:only-of-type {\n",
       "        vertical-align: middle;\n",
       "    }\n",
       "\n",
       "    .dataframe tbody tr th {\n",
       "        vertical-align: top;\n",
       "    }\n",
       "\n",
       "    .dataframe thead tr th {\n",
       "        text-align: left;\n",
       "    }\n",
       "\n",
       "    .dataframe thead tr:last-of-type th {\n",
       "        text-align: right;\n",
       "    }\n",
       "</style>\n",
       "<table border=\"1\" class=\"dataframe\">\n",
       "  <thead>\n",
       "    <tr>\n",
       "      <th></th>\n",
       "      <th></th>\n",
       "      <th></th>\n",
       "      <th colspan=\"21\" halign=\"left\">value</th>\n",
       "    </tr>\n",
       "    <tr>\n",
       "      <th></th>\n",
       "      <th></th>\n",
       "      <th>region</th>\n",
       "      <th>AT</th>\n",
       "      <th>BE</th>\n",
       "      <th>BG</th>\n",
       "      <th>CH</th>\n",
       "      <th>CZ</th>\n",
       "      <th>DE</th>\n",
       "      <th>DK</th>\n",
       "      <th>EE</th>\n",
       "      <th>ES</th>\n",
       "      <th>FI</th>\n",
       "      <th>...</th>\n",
       "      <th>LV</th>\n",
       "      <th>NL</th>\n",
       "      <th>NO</th>\n",
       "      <th>PL</th>\n",
       "      <th>PT</th>\n",
       "      <th>RO</th>\n",
       "      <th>SE</th>\n",
       "      <th>SI</th>\n",
       "      <th>SK</th>\n",
       "      <th>UK</th>\n",
       "    </tr>\n",
       "    <tr>\n",
       "      <th>year</th>\n",
       "      <th>Spatial</th>\n",
       "      <th>technology</th>\n",
       "      <th></th>\n",
       "      <th></th>\n",
       "      <th></th>\n",
       "      <th></th>\n",
       "      <th></th>\n",
       "      <th></th>\n",
       "      <th></th>\n",
       "      <th></th>\n",
       "      <th></th>\n",
       "      <th></th>\n",
       "      <th></th>\n",
       "      <th></th>\n",
       "      <th></th>\n",
       "      <th></th>\n",
       "      <th></th>\n",
       "      <th></th>\n",
       "      <th></th>\n",
       "      <th></th>\n",
       "      <th></th>\n",
       "      <th></th>\n",
       "      <th></th>\n",
       "    </tr>\n",
       "  </thead>\n",
       "  <tbody>\n",
       "    <tr>\n",
       "      <th>2010</th>\n",
       "      <th>region</th>\n",
       "      <th>Windonshore</th>\n",
       "      <td>0.202671</td>\n",
       "      <td>0.257879</td>\n",
       "      <td>0.193363</td>\n",
       "      <td>0.0</td>\n",
       "      <td>0.182341</td>\n",
       "      <td>0.212623</td>\n",
       "      <td>0.379947</td>\n",
       "      <td>0.264976</td>\n",
       "      <td>0.198692</td>\n",
       "      <td>0.183086</td>\n",
       "      <td>...</td>\n",
       "      <td>0.238973</td>\n",
       "      <td>0.287373</td>\n",
       "      <td>0.235084</td>\n",
       "      <td>0.249607</td>\n",
       "      <td>0.209686</td>\n",
       "      <td>0.182642</td>\n",
       "      <td>0.19665</td>\n",
       "      <td>0.0</td>\n",
       "      <td>0.204975</td>\n",
       "      <td>0.281906</td>\n",
       "    </tr>\n",
       "  </tbody>\n",
       "</table>\n",
       "<p>1 rows × 28 columns</p>\n",
       "</div>"
      ],
      "text/plain": [
       "                             value                                     \\\n",
       "region                          AT        BE        BG   CH        CZ   \n",
       "year Spatial technology                                                 \n",
       "2010 region  Windonshore  0.202671  0.257879  0.193363  0.0  0.182341   \n",
       "\n",
       "                                                                            \\\n",
       "region                          DE        DK        EE        ES        FI   \n",
       "year Spatial technology                                                      \n",
       "2010 region  Windonshore  0.212623  0.379947  0.264976  0.198692  0.183086   \n",
       "\n",
       "                          ...                                          \\\n",
       "region                    ...        LV        NL        NO        PL   \n",
       "year Spatial technology   ...                                           \n",
       "2010 region  Windonshore  ...  0.238973  0.287373  0.235084  0.249607   \n",
       "\n",
       "                                                                                \n",
       "region                          PT        RO       SE   SI        SK        UK  \n",
       "year Spatial technology                                                         \n",
       "2010 region  Windonshore  0.209686  0.182642  0.19665  0.0  0.204975  0.281906  \n",
       "\n",
       "[1 rows x 28 columns]"
      ]
     },
     "execution_count": 217,
     "metadata": {},
     "output_type": "execute_result"
    }
   ],
   "source": [
    "meancapfacs.unstack().query(\n",
    "    #\"technology == 'Windonshore' and year == '2010' and ( Neigh == 'High' or Neigh == 'None') and Solar == 'Low'\"\n",
    "    \"technology == 'Windonshore' and year == '2010'\"\n",
    ")"
   ]
  },
  {
   "cell_type": "code",
   "execution_count": 219,
   "metadata": {},
   "outputs": [
    {
     "name": "stderr",
     "output_type": "stream",
     "text": [
      "100%|██████████| 1/1 [00:00<00:00, 94.01it/s]\n"
     ]
    },
    {
     "data": {
      "text/html": [
       "<div>\n",
       "<style scoped>\n",
       "    .dataframe tbody tr th:only-of-type {\n",
       "        vertical-align: middle;\n",
       "    }\n",
       "\n",
       "    .dataframe tbody tr th {\n",
       "        vertical-align: top;\n",
       "    }\n",
       "\n",
       "    .dataframe thead th {\n",
       "        text-align: right;\n",
       "    }\n",
       "</style>\n",
       "<table border=\"1\" class=\"dataframe\">\n",
       "  <thead>\n",
       "    <tr style=\"text-align: right;\">\n",
       "      <th></th>\n",
       "      <th></th>\n",
       "      <th></th>\n",
       "      <th></th>\n",
       "      <th>costsgencapex</th>\n",
       "    </tr>\n",
       "    <tr>\n",
       "      <th>year</th>\n",
       "      <th>Spatial</th>\n",
       "      <th>zone</th>\n",
       "      <th>level_1</th>\n",
       "      <th></th>\n",
       "    </tr>\n",
       "  </thead>\n",
       "  <tbody>\n",
       "    <tr>\n",
       "      <th rowspan=\"11\" valign=\"top\">2010</th>\n",
       "      <th rowspan=\"11\" valign=\"top\">region</th>\n",
       "      <th rowspan=\"4\" valign=\"top\">AT</th>\n",
       "      <th>level</th>\n",
       "      <td>2.394180e+03</td>\n",
       "    </tr>\n",
       "    <tr>\n",
       "      <th>lo</th>\n",
       "      <td>-1.000000e+100</td>\n",
       "    </tr>\n",
       "    <tr>\n",
       "      <th>marginal</th>\n",
       "      <td>0.000000e+00</td>\n",
       "    </tr>\n",
       "    <tr>\n",
       "      <th>up</th>\n",
       "      <td>1.000000e+100</td>\n",
       "    </tr>\n",
       "    <tr>\n",
       "      <th>BE</th>\n",
       "      <th>level</th>\n",
       "      <td>4.841089e-04</td>\n",
       "    </tr>\n",
       "    <tr>\n",
       "      <th>...</th>\n",
       "      <th>...</th>\n",
       "      <td>...</td>\n",
       "    </tr>\n",
       "    <tr>\n",
       "      <th>SK</th>\n",
       "      <th>up</th>\n",
       "      <td>1.000000e+100</td>\n",
       "    </tr>\n",
       "    <tr>\n",
       "      <th rowspan=\"4\" valign=\"top\">UK</th>\n",
       "      <th>level</th>\n",
       "      <td>4.215154e+03</td>\n",
       "    </tr>\n",
       "    <tr>\n",
       "      <th>lo</th>\n",
       "      <td>-1.000000e+100</td>\n",
       "    </tr>\n",
       "    <tr>\n",
       "      <th>marginal</th>\n",
       "      <td>0.000000e+00</td>\n",
       "    </tr>\n",
       "    <tr>\n",
       "      <th>up</th>\n",
       "      <td>1.000000e+100</td>\n",
       "    </tr>\n",
       "  </tbody>\n",
       "</table>\n",
       "<p>112 rows × 1 columns</p>\n",
       "</div>"
      ],
      "text/plain": [
       "                            costsgencapex\n",
       "year Spatial zone level_1                \n",
       "2010 region  AT   level      2.394180e+03\n",
       "                  lo       -1.000000e+100\n",
       "                  marginal   0.000000e+00\n",
       "                  up        1.000000e+100\n",
       "             BE   level      4.841089e-04\n",
       "...                                   ...\n",
       "             SK   up        1.000000e+100\n",
       "             UK   level      4.215154e+03\n",
       "                  lo       -1.000000e+100\n",
       "                  marginal   0.000000e+00\n",
       "                  up        1.000000e+100\n",
       "\n",
       "[112 rows x 1 columns]"
      ]
     },
     "execution_count": 219,
     "metadata": {},
     "output_type": "execute_result"
    }
   ],
   "source": [
    "#costs\n",
    "#Investments vs operations\n",
    "costsgencapex = makenice(sqlite_list, \"costsgencapex\")\n",
    "costsgencapex"
   ]
  },
  {
   "cell_type": "code",
   "execution_count": 224,
   "metadata": {},
   "outputs": [
    {
     "data": {
      "text/plain": [
       "year  Spatial\n",
       "2010  region     177740.209426\n",
       "dtype: float64"
      ]
     },
     "execution_count": 224,
     "metadata": {},
     "output_type": "execute_result"
    }
   ],
   "source": [
    "(costsgencapex.query(\"level_1 == 'level'\").droplevel(\"level_1\").unstack()\n",
    "#.loc[:, \"costsgencapex\"]\n",
    "#.query(\n",
    "#    \"year == '2010' and ( Neigh == 'High' or Neigh == 'None') and Solar == 'Low'\"\n",
    ").sum(axis=1)\n"
   ]
  },
  {
   "cell_type": "code",
   "execution_count": 225,
   "metadata": {},
   "outputs": [
    {
     "name": "stderr",
     "output_type": "stream",
     "text": [
      "100%|██████████| 1/1 [00:00<00:00, 102.39it/s]\n"
     ]
    }
   ],
   "source": [
    "costsgenvarom = makenice(sqlite_list, \"costsgenvarom\")"
   ]
  },
  {
   "cell_type": "code",
   "execution_count": 226,
   "metadata": {},
   "outputs": [
    {
     "data": {
      "text/plain": [
       "year  Spatial\n",
       "2010  region     11253.24957\n",
       "dtype: float64"
      ]
     },
     "execution_count": 226,
     "metadata": {},
     "output_type": "execute_result"
    }
   ],
   "source": [
    "(costsgenvarom.query(\"level_1 == 'level'\").droplevel(\"level_1\").unstack()\n",
    "#.query(\n",
    "#    \"year == '2010' and ( Neigh == 'High' or Neigh == 'None') and Solar == 'Low'\"\n",
    ").sum(axis=1)\n"
   ]
  }
 ],
 "metadata": {
  "kernelspec": {
   "display_name": "snakemake",
   "language": "python",
   "name": "python3"
  },
  "language_info": {
   "codemirror_mode": {
    "name": "ipython",
    "version": 3
   },
   "file_extension": ".py",
   "mimetype": "text/x-python",
   "name": "python",
   "nbconvert_exporter": "python",
   "pygments_lexer": "ipython3",
   "version": "3.12.1"
  }
 },
 "nbformat": 4,
 "nbformat_minor": 2
}
