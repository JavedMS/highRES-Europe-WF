{
 "cells": [
  {
   "cell_type": "code",
   "execution_count": null,
   "id": "e00c0c24",
   "metadata": {},
   "outputs": [],
   "source": [
    "# start coding here"
   ]
  }
 ],
 "metadata": {
  "language_info": {
   "name": "python"
  }
 },
 "nbformat": 4,
 "nbformat_minor": 5
}
